{
  "cells": [
    {
      "cell_type": "markdown",
      "id": "3e2b26be",
      "metadata": {
        "id": "3e2b26be"
      },
      "source": [
        "# Time Series Forecasting Exam\n",
        "\n",
        "In this exam, you will work on a time series forecasting task. The goal is to go through the entire workflow from loading the data to evaluating the model and making predictions. Follow each step carefully. The dataset is stored in you can access it [here](https://www.kaggle.com/datasets/khaledzsa/traffic-dataset), the target is to predict `traffic_volume` column. There is also command to download the dataset below.\n",
        "\n",
        "## Dataset: Traffic Dataset\n",
        "\n",
        "### Dataset Overview:\n",
        "\n",
        "- **Name**: Traffic Dataset\n",
        "- **Description**: This dataset contains hourly data on the traffic volume for westbound I-94, a major interstate highway in the US that connects Minneapolis and St Paul, Minnesota. The data was collected by the Minnesota Department of Transportation (MnDOT) from 2012 to 2018 at a station roughly midway between the two cities.\n",
        "- **Time Period**: Starting from 18-11-2016\n",
        "- **Frequency**: Hourly observations\n",
        "\n",
        "### Features:\n",
        "\n",
        "1. **temp:** a numeric variable that shows the average temperature in kelvin.\n",
        "2. **rain_1h:** a numeric variable that shows the amount of rain in mm that occurred in the hour.\n",
        "3. **snow_1h:** a numeric variable that shows the amount of snow in mm that occurred in the hour.\n",
        "4. **clouds_all:** a numeric variable that shows the percentage of cloud cover.\n",
        "5. **weather_main:** a categorical variable that gives a short textual description of the current weather (such as Clear, Clouds, Rain, etc.).\n",
        "6. **weather_description:** a categorical variable that gives a longer textual description of the current weather (such as light rain, overcast clouds, etc.).\n",
        "7. **date_time:** a datetime variable that shows the hour of the data collected in local CST time.\n",
        "8. **traffic_volume:** a numeric variable that shows the hourly I-94 reported westbound traffic volume.\n",
        "\n",
        "#### Feel free to add or rearrange steps as you see fit to optimize your workflow. One additional note: the model's performance doesn't need to be 100% accurate. Instead, focus on achieving the best possible results while balancing performance and generalization."
      ]
    },
    {
      "cell_type": "markdown",
      "id": "9d58f5eb",
      "metadata": {
        "id": "9d58f5eb"
      },
      "source": [
        "## Load the Data\n",
        "\n",
        "Load the time series dataset into a pandas DataFrame.\n",
        "\n",
        "**Instructions:**\n",
        "- Use `pandas` to load your dataset.\n",
        "- Display the first few rows to understand its structure.\n",
        "- Make sure the datetime column is correctly parsed."
      ]
    },
    {
      "cell_type": "code",
      "execution_count": 44,
      "id": "tJG6da7n3tYZ",
      "metadata": {
        "colab": {
          "base_uri": "https://localhost:8080/"
        },
        "id": "tJG6da7n3tYZ",
        "outputId": "12a28383-ee10-4bf4-92c5-549c01153a46"
      },
      "outputs": [],
      "source": [
        "# Here is a helping code that will download and unzip the dataset for you.\n",
        "# Once you download the dataset you may comment the code!\n",
        "# !kaggle datasets download -d khaledzsa/traffic-dataset\n",
        "# !unzip traffic-dataset.zip"
      ]
    },
    {
      "cell_type": "code",
      "execution_count": 45,
      "id": "dnjZqJYG8L4w",
      "metadata": {
        "colab": {
          "base_uri": "https://localhost:8080/"
        },
        "id": "dnjZqJYG8L4w",
        "outputId": "4de3a723-ddf0-410b-8bb8-5400f31c7885"
      },
      "outputs": [
        {
          "name": "stdout",
          "output_type": "stream",
          "text": [
            "Requirement already satisfied: pmdarima in c:\\users\\saad9\\appdata\\local\\programs\\python\\python312\\lib\\site-packages (2.0.4)\n",
            "Requirement already satisfied: joblib>=0.11 in c:\\users\\saad9\\appdata\\local\\programs\\python\\python312\\lib\\site-packages (from pmdarima) (1.4.2)\n",
            "Requirement already satisfied: Cython!=0.29.18,!=0.29.31,>=0.29 in c:\\users\\saad9\\appdata\\local\\programs\\python\\python312\\lib\\site-packages (from pmdarima) (3.0.11)\n",
            "Requirement already satisfied: numpy>=1.21.2 in c:\\users\\saad9\\appdata\\local\\programs\\python\\python312\\lib\\site-packages (from pmdarima) (1.26.4)\n",
            "Requirement already satisfied: pandas>=0.19 in c:\\users\\saad9\\appdata\\local\\programs\\python\\python312\\lib\\site-packages (from pmdarima) (2.2.2)\n",
            "Requirement already satisfied: scikit-learn>=0.22 in c:\\users\\saad9\\appdata\\local\\programs\\python\\python312\\lib\\site-packages (from pmdarima) (1.5.1)\n",
            "Requirement already satisfied: scipy>=1.3.2 in c:\\users\\saad9\\appdata\\local\\programs\\python\\python312\\lib\\site-packages (from pmdarima) (1.14.0)\n",
            "Requirement already satisfied: statsmodels>=0.13.2 in c:\\users\\saad9\\appdata\\local\\programs\\python\\python312\\lib\\site-packages (from pmdarima) (0.14.2)\n",
            "Requirement already satisfied: urllib3 in c:\\users\\saad9\\appdata\\local\\programs\\python\\python312\\lib\\site-packages (from pmdarima) (2.2.2)\n",
            "Requirement already satisfied: setuptools!=50.0.0,>=38.6.0 in c:\\users\\saad9\\appdata\\local\\programs\\python\\python312\\lib\\site-packages (from pmdarima) (72.1.0)\n",
            "Requirement already satisfied: packaging>=17.1 in c:\\users\\saad9\\appdata\\roaming\\python\\python312\\site-packages (from pmdarima) (24.1)\n",
            "Requirement already satisfied: python-dateutil>=2.8.2 in c:\\users\\saad9\\appdata\\roaming\\python\\python312\\site-packages (from pandas>=0.19->pmdarima) (2.9.0.post0)\n",
            "Requirement already satisfied: pytz>=2020.1 in c:\\users\\saad9\\appdata\\local\\programs\\python\\python312\\lib\\site-packages (from pandas>=0.19->pmdarima) (2024.1)\n",
            "Requirement already satisfied: tzdata>=2022.7 in c:\\users\\saad9\\appdata\\local\\programs\\python\\python312\\lib\\site-packages (from pandas>=0.19->pmdarima) (2024.1)\n",
            "Requirement already satisfied: threadpoolctl>=3.1.0 in c:\\users\\saad9\\appdata\\local\\programs\\python\\python312\\lib\\site-packages (from scikit-learn>=0.22->pmdarima) (3.5.0)\n",
            "Requirement already satisfied: patsy>=0.5.6 in c:\\users\\saad9\\appdata\\local\\programs\\python\\python312\\lib\\site-packages (from statsmodels>=0.13.2->pmdarima) (0.5.6)\n",
            "Requirement already satisfied: six in c:\\users\\saad9\\appdata\\roaming\\python\\python312\\site-packages (from patsy>=0.5.6->statsmodels>=0.13.2->pmdarima) (1.16.0)\n",
            "Note: you may need to restart the kernel to use updated packages.\n",
            "Requirement already satisfied: statsmodels in c:\\users\\saad9\\appdata\\local\\programs\\python\\python312\\lib\\site-packages (0.14.2)\n",
            "Requirement already satisfied: numpy>=1.22.3 in c:\\users\\saad9\\appdata\\local\\programs\\python\\python312\\lib\\site-packages (from statsmodels) (1.26.4)\n",
            "Requirement already satisfied: scipy!=1.9.2,>=1.8 in c:\\users\\saad9\\appdata\\local\\programs\\python\\python312\\lib\\site-packages (from statsmodels) (1.14.0)\n",
            "Requirement already satisfied: pandas!=2.1.0,>=1.4 in c:\\users\\saad9\\appdata\\local\\programs\\python\\python312\\lib\\site-packages (from statsmodels) (2.2.2)\n",
            "Requirement already satisfied: patsy>=0.5.6 in c:\\users\\saad9\\appdata\\local\\programs\\python\\python312\\lib\\site-packages (from statsmodels) (0.5.6)\n",
            "Requirement already satisfied: packaging>=21.3 in c:\\users\\saad9\\appdata\\roaming\\python\\python312\\site-packages (from statsmodels) (24.1)\n",
            "Requirement already satisfied: python-dateutil>=2.8.2 in c:\\users\\saad9\\appdata\\roaming\\python\\python312\\site-packages (from pandas!=2.1.0,>=1.4->statsmodels) (2.9.0.post0)\n",
            "Requirement already satisfied: pytz>=2020.1 in c:\\users\\saad9\\appdata\\local\\programs\\python\\python312\\lib\\site-packages (from pandas!=2.1.0,>=1.4->statsmodels) (2024.1)\n",
            "Requirement already satisfied: tzdata>=2022.7 in c:\\users\\saad9\\appdata\\local\\programs\\python\\python312\\lib\\site-packages (from pandas!=2.1.0,>=1.4->statsmodels) (2024.1)\n",
            "Requirement already satisfied: six in c:\\users\\saad9\\appdata\\roaming\\python\\python312\\site-packages (from patsy>=0.5.6->statsmodels) (1.16.0)\n",
            "Note: you may need to restart the kernel to use updated packages.\n"
          ]
        }
      ],
      "source": [
        "%pip install pmdarima\n",
        "%pip install statsmodels"
      ]
    },
    {
      "cell_type": "code",
      "execution_count": 46,
      "id": "2mgOeYXB7eI-",
      "metadata": {
        "id": "2mgOeYXB7eI-"
      },
      "outputs": [],
      "source": [
        "import pandas as pd\n",
        "import numpy as np\n",
        "import seaborn as sns\n",
        "import matplotlib.pyplot as plt\n",
        "\n",
        "from sklearn.model_selection import train_test_split\n",
        "from sklearn.metrics import mean_squared_error\n",
        "from tensorflow.keras.layers import Dense, Dropout, LSTM, GRU, SimpleRNN\n",
        "from tensorflow.keras.optimizers import Adam\n",
        "from tensorflow.keras.models import Sequential\n",
        "from pmdarima import auto_arima\n",
        "from statsmodels.tsa.seasonal import seasonal_decompose\n",
        "from keras.callbacks import EarlyStopping\n",
        "\n",
        "import warnings\n",
        "warnings.filterwarnings('ignore')"
      ]
    },
    {
      "cell_type": "code",
      "execution_count": 47,
      "id": "aeb78ac1",
      "metadata": {
        "id": "aeb78ac1"
      },
      "outputs": [],
      "source": [
        "path = 'Traffic Data.csv'\n",
        "df = pd.read_csv(path, parse_dates=['date_time'])"
      ]
    },
    {
      "cell_type": "code",
      "execution_count": 48,
      "id": "GcPas6L79lr5",
      "metadata": {
        "colab": {
          "base_uri": "https://localhost:8080/"
        },
        "id": "GcPas6L79lr5",
        "outputId": "a63dd020-6286-4ae1-c9b6-093192889e60"
      },
      "outputs": [
        {
          "name": "stdout",
          "output_type": "stream",
          "text": [
            "<class 'pandas.core.frame.DataFrame'>\n",
            "RangeIndex: 20000 entries, 0 to 19999\n",
            "Data columns (total 8 columns):\n",
            " #   Column               Non-Null Count  Dtype         \n",
            "---  ------               --------------  -----         \n",
            " 0   traffic_volume       19980 non-null  float64       \n",
            " 1   temp                 20000 non-null  float64       \n",
            " 2   rain_1h              20000 non-null  float64       \n",
            " 3   snow_1h              20000 non-null  float64       \n",
            " 4   clouds_all           20000 non-null  int64         \n",
            " 5   weather_main         20000 non-null  object        \n",
            " 6   weather_description  20000 non-null  object        \n",
            " 7   date_time            20000 non-null  datetime64[ns]\n",
            "dtypes: datetime64[ns](1), float64(4), int64(1), object(2)\n",
            "memory usage: 1.2+ MB\n"
          ]
        }
      ],
      "source": [
        "df.info()"
      ]
    },
    {
      "cell_type": "markdown",
      "id": "c3122466",
      "metadata": {
        "id": "c3122466"
      },
      "source": [
        "## Exploratory Data Analysis (EDA)\n",
        "\n",
        "Perform exploratory data analysis on the dataset.\n",
        "\n",
        "**Instructions:**\n",
        "- Plot the time series data.\n",
        "- Analyze trends, seasonality, and potential outliers.\n",
        "- Plot boxplots or scatter plots to identify any outliers or anomalies in the data.\n",
        "- Seasonal Decomposition: Use `seasonal_decompose` from the `statsmodels` library to break down the time series data into trend, seasonality, and residual components. Analyze each component to gain insights into the long-term movement (trend), regular patterns (seasonality), and remaining fluctuations (residuals).\n",
        "\n",
        "Do more if needed!"
      ]
    },
    {
      "cell_type": "code",
      "execution_count": 49,
      "id": "E85Miw9jAgnL",
      "metadata": {
        "colab": {
          "base_uri": "https://localhost:8080/",
          "height": 206
        },
        "id": "E85Miw9jAgnL",
        "outputId": "187748a2-c09f-4d48-85ef-ec25c763558a"
      },
      "outputs": [
        {
          "data": {
            "text/html": [
              "<div>\n",
              "<style scoped>\n",
              "    .dataframe tbody tr th:only-of-type {\n",
              "        vertical-align: middle;\n",
              "    }\n",
              "\n",
              "    .dataframe tbody tr th {\n",
              "        vertical-align: top;\n",
              "    }\n",
              "\n",
              "    .dataframe thead th {\n",
              "        text-align: right;\n",
              "    }\n",
              "</style>\n",
              "<table border=\"1\" class=\"dataframe\">\n",
              "  <thead>\n",
              "    <tr style=\"text-align: right;\">\n",
              "      <th></th>\n",
              "      <th>traffic_volume</th>\n",
              "      <th>temp</th>\n",
              "      <th>rain_1h</th>\n",
              "      <th>snow_1h</th>\n",
              "      <th>clouds_all</th>\n",
              "      <th>weather_main</th>\n",
              "      <th>weather_description</th>\n",
              "      <th>date_time</th>\n",
              "    </tr>\n",
              "  </thead>\n",
              "  <tbody>\n",
              "    <tr>\n",
              "      <th>0</th>\n",
              "      <td>1209.0</td>\n",
              "      <td>291.15</td>\n",
              "      <td>0.0</td>\n",
              "      <td>0.0</td>\n",
              "      <td>90</td>\n",
              "      <td>Mist</td>\n",
              "      <td>mist</td>\n",
              "      <td>2017-08-27 01:00:00</td>\n",
              "    </tr>\n",
              "    <tr>\n",
              "      <th>1</th>\n",
              "      <td>1248.0</td>\n",
              "      <td>286.01</td>\n",
              "      <td>0.0</td>\n",
              "      <td>0.0</td>\n",
              "      <td>1</td>\n",
              "      <td>Clear</td>\n",
              "      <td>sky is clear</td>\n",
              "      <td>2018-09-06 23:00:00</td>\n",
              "    </tr>\n",
              "    <tr>\n",
              "      <th>2</th>\n",
              "      <td>4602.0</td>\n",
              "      <td>293.69</td>\n",
              "      <td>0.0</td>\n",
              "      <td>0.0</td>\n",
              "      <td>75</td>\n",
              "      <td>Clouds</td>\n",
              "      <td>broken clouds</td>\n",
              "      <td>2017-08-25 18:00:00</td>\n",
              "    </tr>\n",
              "    <tr>\n",
              "      <th>3</th>\n",
              "      <td>2838.0</td>\n",
              "      <td>262.35</td>\n",
              "      <td>0.0</td>\n",
              "      <td>0.0</td>\n",
              "      <td>1</td>\n",
              "      <td>Clear</td>\n",
              "      <td>sky is clear</td>\n",
              "      <td>2017-11-09 22:00:00</td>\n",
              "    </tr>\n",
              "    <tr>\n",
              "      <th>4</th>\n",
              "      <td>5794.0</td>\n",
              "      <td>267.08</td>\n",
              "      <td>0.0</td>\n",
              "      <td>0.0</td>\n",
              "      <td>5</td>\n",
              "      <td>Clear</td>\n",
              "      <td>sky is clear</td>\n",
              "      <td>2017-11-09 15:00:00</td>\n",
              "    </tr>\n",
              "  </tbody>\n",
              "</table>\n",
              "</div>"
            ],
            "text/plain": [
              "   traffic_volume    temp  rain_1h  snow_1h  clouds_all weather_main  \\\n",
              "0          1209.0  291.15      0.0      0.0          90         Mist   \n",
              "1          1248.0  286.01      0.0      0.0           1        Clear   \n",
              "2          4602.0  293.69      0.0      0.0          75       Clouds   \n",
              "3          2838.0  262.35      0.0      0.0           1        Clear   \n",
              "4          5794.0  267.08      0.0      0.0           5        Clear   \n",
              "\n",
              "  weather_description           date_time  \n",
              "0                mist 2017-08-27 01:00:00  \n",
              "1        sky is clear 2018-09-06 23:00:00  \n",
              "2       broken clouds 2017-08-25 18:00:00  \n",
              "3        sky is clear 2017-11-09 22:00:00  \n",
              "4        sky is clear 2017-11-09 15:00:00  "
            ]
          },
          "execution_count": 49,
          "metadata": {},
          "output_type": "execute_result"
        }
      ],
      "source": [
        "df.head()"
      ]
    },
    {
      "cell_type": "code",
      "execution_count": 50,
      "id": "-nUtl6NSAx-S",
      "metadata": {
        "colab": {
          "base_uri": "https://localhost:8080/",
          "height": 300
        },
        "id": "-nUtl6NSAx-S",
        "outputId": "d8a4d622-81fe-4f5b-f594-67c87e7f41ae"
      },
      "outputs": [
        {
          "data": {
            "text/html": [
              "<div>\n",
              "<style scoped>\n",
              "    .dataframe tbody tr th:only-of-type {\n",
              "        vertical-align: middle;\n",
              "    }\n",
              "\n",
              "    .dataframe tbody tr th {\n",
              "        vertical-align: top;\n",
              "    }\n",
              "\n",
              "    .dataframe thead th {\n",
              "        text-align: right;\n",
              "    }\n",
              "</style>\n",
              "<table border=\"1\" class=\"dataframe\">\n",
              "  <thead>\n",
              "    <tr style=\"text-align: right;\">\n",
              "      <th></th>\n",
              "      <th>traffic_volume</th>\n",
              "      <th>temp</th>\n",
              "      <th>rain_1h</th>\n",
              "      <th>snow_1h</th>\n",
              "      <th>clouds_all</th>\n",
              "      <th>date_time</th>\n",
              "    </tr>\n",
              "  </thead>\n",
              "  <tbody>\n",
              "    <tr>\n",
              "      <th>count</th>\n",
              "      <td>19980.000000</td>\n",
              "      <td>20000.000000</td>\n",
              "      <td>20000.000000</td>\n",
              "      <td>20000.0</td>\n",
              "      <td>20000.000000</td>\n",
              "      <td>20000</td>\n",
              "    </tr>\n",
              "    <tr>\n",
              "      <th>mean</th>\n",
              "      <td>3278.186887</td>\n",
              "      <td>281.162680</td>\n",
              "      <td>0.048396</td>\n",
              "      <td>0.0</td>\n",
              "      <td>49.384600</td>\n",
              "      <td>2017-10-22 04:13:17.939999744</td>\n",
              "    </tr>\n",
              "    <tr>\n",
              "      <th>min</th>\n",
              "      <td>113.000000</td>\n",
              "      <td>243.390000</td>\n",
              "      <td>0.000000</td>\n",
              "      <td>0.0</td>\n",
              "      <td>0.000000</td>\n",
              "      <td>2016-11-18 15:00:00</td>\n",
              "    </tr>\n",
              "    <tr>\n",
              "      <th>25%</th>\n",
              "      <td>1228.750000</td>\n",
              "      <td>271.950000</td>\n",
              "      <td>0.000000</td>\n",
              "      <td>0.0</td>\n",
              "      <td>1.000000</td>\n",
              "      <td>2017-04-30 14:45:00</td>\n",
              "    </tr>\n",
              "    <tr>\n",
              "      <th>50%</th>\n",
              "      <td>3430.000000</td>\n",
              "      <td>281.825000</td>\n",
              "      <td>0.000000</td>\n",
              "      <td>0.0</td>\n",
              "      <td>75.000000</td>\n",
              "      <td>2017-10-21 07:30:00</td>\n",
              "    </tr>\n",
              "    <tr>\n",
              "      <th>75%</th>\n",
              "      <td>4928.000000</td>\n",
              "      <td>291.840000</td>\n",
              "      <td>0.000000</td>\n",
              "      <td>0.0</td>\n",
              "      <td>90.000000</td>\n",
              "      <td>2018-04-13 21:00:00</td>\n",
              "    </tr>\n",
              "    <tr>\n",
              "      <th>max</th>\n",
              "      <td>16781.000000</td>\n",
              "      <td>310.070000</td>\n",
              "      <td>10.600000</td>\n",
              "      <td>0.0</td>\n",
              "      <td>92.000000</td>\n",
              "      <td>2018-09-30 23:00:00</td>\n",
              "    </tr>\n",
              "    <tr>\n",
              "      <th>std</th>\n",
              "      <td>1977.171357</td>\n",
              "      <td>12.661288</td>\n",
              "      <td>0.398007</td>\n",
              "      <td>0.0</td>\n",
              "      <td>39.647341</td>\n",
              "      <td>NaN</td>\n",
              "    </tr>\n",
              "  </tbody>\n",
              "</table>\n",
              "</div>"
            ],
            "text/plain": [
              "       traffic_volume          temp       rain_1h  snow_1h    clouds_all  \\\n",
              "count    19980.000000  20000.000000  20000.000000  20000.0  20000.000000   \n",
              "mean      3278.186887    281.162680      0.048396      0.0     49.384600   \n",
              "min        113.000000    243.390000      0.000000      0.0      0.000000   \n",
              "25%       1228.750000    271.950000      0.000000      0.0      1.000000   \n",
              "50%       3430.000000    281.825000      0.000000      0.0     75.000000   \n",
              "75%       4928.000000    291.840000      0.000000      0.0     90.000000   \n",
              "max      16781.000000    310.070000     10.600000      0.0     92.000000   \n",
              "std       1977.171357     12.661288      0.398007      0.0     39.647341   \n",
              "\n",
              "                           date_time  \n",
              "count                          20000  \n",
              "mean   2017-10-22 04:13:17.939999744  \n",
              "min              2016-11-18 15:00:00  \n",
              "25%              2017-04-30 14:45:00  \n",
              "50%              2017-10-21 07:30:00  \n",
              "75%              2018-04-13 21:00:00  \n",
              "max              2018-09-30 23:00:00  \n",
              "std                              NaN  "
            ]
          },
          "execution_count": 50,
          "metadata": {},
          "output_type": "execute_result"
        }
      ],
      "source": [
        "df.describe()"
      ]
    },
    {
      "cell_type": "code",
      "execution_count": 51,
      "id": "LGogXQbIA5P9",
      "metadata": {
        "colab": {
          "base_uri": "https://localhost:8080/",
          "height": 450
        },
        "id": "LGogXQbIA5P9",
        "outputId": "f10794a7-3853-4da7-da8e-8fde884286d5"
      },
      "outputs": [
        {
          "data": {
            "image/png": "[encoded data removed]",
            "text/plain": [
              "<Figure size 1000x600 with 1 Axes>"
            ]
          },
          "metadata": {},
          "output_type": "display_data"
        },
        {
          "data": {
            "image/png": "[encoded data removed]",
            "text/plain": [
              "<Figure size 1000x600 with 1 Axes>"
            ]
          },
          "metadata": {},
          "output_type": "display_data"
        },
        {
          "data": {
            "image/png": "[encoded data removed]",
            "text/plain": [
              "<Figure size 1000x600 with 1 Axes>"
            ]
          },
          "metadata": {},
          "output_type": "display_data"
        },
        {
          "data": {
            "image/png": "[encoded data removed]",
            "text/plain": [
              "<Figure size 1000x600 with 1 Axes>"
            ]
          },
          "metadata": {},
          "output_type": "display_data"
        },
        {
          "data": {
            "image/png": "[encoded data removed]",
            "text/plain": [
              "<Figure size 1000x600 with 1 Axes>"
            ]
          },
          "metadata": {},
          "output_type": "display_data"
        },
        {
          "data": {
            "image/png": "[encoded data removed]",
            "text/plain": [
              "<Figure size 1000x600 with 1 Axes>"
            ]
          },
          "metadata": {},
          "output_type": "display_data"
        },
        {
          "data": {
            "image/png": "[encoded data removed]",
            "text/plain": [
              "<Figure size 1000x600 with 1 Axes>"
            ]
          },
          "metadata": {},
          "output_type": "display_data"
        },
        {
          "data": {
            "image/png": "[encoded data removed]",
            "text/plain": [
              "<Figure size 1000x600 with 1 Axes>"
            ]
          },
          "metadata": {},
          "output_type": "display_data"
        }
      ],
      "source": [
        "for column in df.columns:\n",
        "    plt.figure(figsize=(10,6))\n",
        "    sns.boxplot(df[column])"
      ]
    },
    {
      "cell_type": "code",
      "execution_count": 52,
      "id": "RjI59b4XAvty",
      "metadata": {
        "colab": {
          "base_uri": "https://localhost:8080/",
          "height": 394
        },
        "id": "RjI59b4XAvty",
        "outputId": "12694e46-0eeb-4727-998f-3542187fd26f"
      },
      "outputs": [
        {
          "data": {
            "text/html": [
              "<div>\n",
              "<style scoped>\n",
              "    .dataframe tbody tr th:only-of-type {\n",
              "        vertical-align: middle;\n",
              "    }\n",
              "\n",
              "    .dataframe tbody tr th {\n",
              "        vertical-align: top;\n",
              "    }\n",
              "\n",
              "    .dataframe thead th {\n",
              "        text-align: right;\n",
              "    }\n",
              "</style>\n",
              "<table border=\"1\" class=\"dataframe\">\n",
              "  <thead>\n",
              "    <tr style=\"text-align: right;\">\n",
              "      <th></th>\n",
              "      <th>traffic_volume</th>\n",
              "      <th>temp</th>\n",
              "      <th>rain_1h</th>\n",
              "      <th>snow_1h</th>\n",
              "      <th>clouds_all</th>\n",
              "      <th>weather_main</th>\n",
              "      <th>weather_description</th>\n",
              "      <th>date_time</th>\n",
              "    </tr>\n",
              "  </thead>\n",
              "  <tbody>\n",
              "    <tr>\n",
              "      <th>12845</th>\n",
              "      <td>614.0</td>\n",
              "      <td>278.91</td>\n",
              "      <td>0.00</td>\n",
              "      <td>0.0</td>\n",
              "      <td>1</td>\n",
              "      <td>Clear</td>\n",
              "      <td>sky is clear</td>\n",
              "      <td>2018-04-23 00:00:00</td>\n",
              "    </tr>\n",
              "    <tr>\n",
              "      <th>9062</th>\n",
              "      <td>367.0</td>\n",
              "      <td>295.65</td>\n",
              "      <td>0.00</td>\n",
              "      <td>0.0</td>\n",
              "      <td>40</td>\n",
              "      <td>Rain</td>\n",
              "      <td>heavy intensity rain</td>\n",
              "      <td>2018-06-18 01:00:00</td>\n",
              "    </tr>\n",
              "    <tr>\n",
              "      <th>8388</th>\n",
              "      <td>1146.0</td>\n",
              "      <td>268.48</td>\n",
              "      <td>0.00</td>\n",
              "      <td>0.0</td>\n",
              "      <td>1</td>\n",
              "      <td>Clear</td>\n",
              "      <td>sky is clear</td>\n",
              "      <td>2017-12-19 23:00:00</td>\n",
              "    </tr>\n",
              "    <tr>\n",
              "      <th>5908</th>\n",
              "      <td>281.0</td>\n",
              "      <td>269.72</td>\n",
              "      <td>0.00</td>\n",
              "      <td>0.0</td>\n",
              "      <td>90</td>\n",
              "      <td>Fog</td>\n",
              "      <td>fog</td>\n",
              "      <td>2017-12-11 01:00:00</td>\n",
              "    </tr>\n",
              "    <tr>\n",
              "      <th>5798</th>\n",
              "      <td>2924.0</td>\n",
              "      <td>287.60</td>\n",
              "      <td>0.81</td>\n",
              "      <td>0.0</td>\n",
              "      <td>90</td>\n",
              "      <td>Drizzle</td>\n",
              "      <td>drizzle</td>\n",
              "      <td>2018-09-20 05:00:00</td>\n",
              "    </tr>\n",
              "    <tr>\n",
              "      <th>11698</th>\n",
              "      <td>5927.0</td>\n",
              "      <td>299.87</td>\n",
              "      <td>0.00</td>\n",
              "      <td>0.0</td>\n",
              "      <td>40</td>\n",
              "      <td>Clouds</td>\n",
              "      <td>scattered clouds</td>\n",
              "      <td>2017-08-08 15:00:00</td>\n",
              "    </tr>\n",
              "    <tr>\n",
              "      <th>19115</th>\n",
              "      <td>858.0</td>\n",
              "      <td>279.48</td>\n",
              "      <td>0.00</td>\n",
              "      <td>0.0</td>\n",
              "      <td>90</td>\n",
              "      <td>Rain</td>\n",
              "      <td>moderate rain</td>\n",
              "      <td>2016-11-27 23:00:00</td>\n",
              "    </tr>\n",
              "    <tr>\n",
              "      <th>4155</th>\n",
              "      <td>2238.0</td>\n",
              "      <td>281.03</td>\n",
              "      <td>0.00</td>\n",
              "      <td>0.0</td>\n",
              "      <td>90</td>\n",
              "      <td>Mist</td>\n",
              "      <td>mist</td>\n",
              "      <td>2017-05-21 21:00:00</td>\n",
              "    </tr>\n",
              "    <tr>\n",
              "      <th>7517</th>\n",
              "      <td>2314.0</td>\n",
              "      <td>274.75</td>\n",
              "      <td>0.00</td>\n",
              "      <td>0.0</td>\n",
              "      <td>90</td>\n",
              "      <td>Snow</td>\n",
              "      <td>light snow</td>\n",
              "      <td>2017-03-17 23:00:00</td>\n",
              "    </tr>\n",
              "    <tr>\n",
              "      <th>193</th>\n",
              "      <td>868.0</td>\n",
              "      <td>285.93</td>\n",
              "      <td>0.00</td>\n",
              "      <td>0.0</td>\n",
              "      <td>75</td>\n",
              "      <td>Clouds</td>\n",
              "      <td>broken clouds</td>\n",
              "      <td>2017-08-04 04:00:00</td>\n",
              "    </tr>\n",
              "  </tbody>\n",
              "</table>\n",
              "</div>"
            ],
            "text/plain": [
              "       traffic_volume    temp  rain_1h  snow_1h  clouds_all weather_main  \\\n",
              "12845           614.0  278.91     0.00      0.0           1        Clear   \n",
              "9062            367.0  295.65     0.00      0.0          40         Rain   \n",
              "8388           1146.0  268.48     0.00      0.0           1        Clear   \n",
              "5908            281.0  269.72     0.00      0.0          90          Fog   \n",
              "5798           2924.0  287.60     0.81      0.0          90      Drizzle   \n",
              "11698          5927.0  299.87     0.00      0.0          40       Clouds   \n",
              "19115           858.0  279.48     0.00      0.0          90         Rain   \n",
              "4155           2238.0  281.03     0.00      0.0          90         Mist   \n",
              "7517           2314.0  274.75     0.00      0.0          90         Snow   \n",
              "193             868.0  285.93     0.00      0.0          75       Clouds   \n",
              "\n",
              "        weather_description           date_time  \n",
              "12845          sky is clear 2018-04-23 00:00:00  \n",
              "9062   heavy intensity rain 2018-06-18 01:00:00  \n",
              "8388           sky is clear 2017-12-19 23:00:00  \n",
              "5908                    fog 2017-12-11 01:00:00  \n",
              "5798                drizzle 2018-09-20 05:00:00  \n",
              "11698      scattered clouds 2017-08-08 15:00:00  \n",
              "19115         moderate rain 2016-11-27 23:00:00  \n",
              "4155                   mist 2017-05-21 21:00:00  \n",
              "7517             light snow 2017-03-17 23:00:00  \n",
              "193           broken clouds 2017-08-04 04:00:00  "
            ]
          },
          "execution_count": 52,
          "metadata": {},
          "output_type": "execute_result"
        }
      ],
      "source": [
        "df.sample(10)"
      ]
    },
    {
      "cell_type": "code",
      "execution_count": 53,
      "id": "55ad0b78",
      "metadata": {},
      "outputs": [],
      "source": [
        "num_df = df.select_dtypes(include=['number'])\n",
        "cat_df = df.select_dtypes(include=['object'])"
      ]
    },
    {
      "cell_type": "code",
      "execution_count": 54,
      "id": "b97a6e36",
      "metadata": {},
      "outputs": [
        {
          "name": "stdout",
          "output_type": "stream",
          "text": [
            "<class 'pandas.core.frame.DataFrame'>\n",
            "RangeIndex: 20000 entries, 0 to 19999\n",
            "Data columns (total 8 columns):\n",
            " #   Column               Non-Null Count  Dtype         \n",
            "---  ------               --------------  -----         \n",
            " 0   traffic_volume       19980 non-null  float64       \n",
            " 1   temp                 20000 non-null  float64       \n",
            " 2   rain_1h              20000 non-null  float64       \n",
            " 3   snow_1h              20000 non-null  float64       \n",
            " 4   clouds_all           20000 non-null  int64         \n",
            " 5   weather_main         20000 non-null  object        \n",
            " 6   weather_description  20000 non-null  object        \n",
            " 7   date_time            20000 non-null  datetime64[ns]\n",
            "dtypes: datetime64[ns](1), float64(4), int64(1), object(2)\n",
            "memory usage: 1.2+ MB\n"
          ]
        }
      ],
      "source": [
        "df.info()"
      ]
    },
    {
      "cell_type": "code",
      "execution_count": 55,
      "id": "f8bb71dd",
      "metadata": {},
      "outputs": [
        {
          "name": "stdout",
          "output_type": "stream",
          "text": [
            "\u001b[1;31mSignature:\u001b[0m\n",
            "\u001b[0mseasonal_decompose\u001b[0m\u001b[1;33m(\u001b[0m\u001b[1;33m\n",
            "\u001b[0m    \u001b[0mx\u001b[0m\u001b[1;33m,\u001b[0m\u001b[1;33m\n",
            "\u001b[0m    \u001b[0mmodel\u001b[0m\u001b[1;33m=\u001b[0m\u001b[1;34m'additive'\u001b[0m\u001b[1;33m,\u001b[0m\u001b[1;33m\n",
            "\u001b[0m    \u001b[0mfilt\u001b[0m\u001b[1;33m=\u001b[0m\u001b[1;32mNone\u001b[0m\u001b[1;33m,\u001b[0m\u001b[1;33m\n",
            "\u001b[0m    \u001b[0mperiod\u001b[0m\u001b[1;33m=\u001b[0m\u001b[1;32mNone\u001b[0m\u001b[1;33m,\u001b[0m\u001b[1;33m\n",
            "\u001b[0m    \u001b[0mtwo_sided\u001b[0m\u001b[1;33m=\u001b[0m\u001b[1;32mTrue\u001b[0m\u001b[1;33m,\u001b[0m\u001b[1;33m\n",
            "\u001b[0m    \u001b[0mextrapolate_trend\u001b[0m\u001b[1;33m=\u001b[0m\u001b[1;36m0\u001b[0m\u001b[1;33m,\u001b[0m\u001b[1;33m\n",
            "\u001b[0m\u001b[1;33m)\u001b[0m\u001b[1;33m\u001b[0m\u001b[1;33m\u001b[0m\u001b[0m\n",
            "\u001b[1;31mDocstring:\u001b[0m\n",
            "Seasonal decomposition using moving averages.\n",
            "\n",
            "Parameters\n",
            "----------\n",
            "x : array_like\n",
            "    Time series. If 2d, individual series are in columns. x must contain 2\n",
            "    complete cycles.\n",
            "model : {\"additive\", \"multiplicative\"}, optional\n",
            "    Type of seasonal component. Abbreviations are accepted.\n",
            "filt : array_like, optional\n",
            "    The filter coefficients for filtering out the seasonal component.\n",
            "    The concrete moving average method used in filtering is determined by\n",
            "    two_sided.\n",
            "period : int, optional\n",
            "    Period of the series (e.g., 1 for annual, 4 for quarterly, etc). Must\n",
            "    be used if x is not a pandas object or if the index of x does not have\n",
            "    a frequency. Overrides default periodicity of x if x is a pandas\n",
            "    object with a timeseries index.\n",
            "two_sided : bool, optional\n",
            "    The moving average method used in filtering.\n",
            "    If True (default), a centered moving average is computed using the\n",
            "    filt. If False, the filter coefficients are for past values only.\n",
            "extrapolate_trend : int or 'freq', optional\n",
            "    If set to > 0, the trend resulting from the convolution is\n",
            "    linear least-squares extrapolated on both ends (or the single one\n",
            "    if two_sided is False) considering this many (+1) closest points.\n",
            "    If set to 'freq', use `freq` closest points. Setting this parameter\n",
            "    results in no NaN values in trend or resid components.\n",
            "\n",
            "Returns\n",
            "-------\n",
            "DecomposeResult\n",
            "    A object with seasonal, trend, and resid attributes.\n",
            "\n",
            "See Also\n",
            "--------\n",
            "statsmodels.tsa.filters.bk_filter.bkfilter\n",
            "    Baxter-King filter.\n",
            "statsmodels.tsa.filters.cf_filter.cffilter\n",
            "    Christiano-Fitzgerald asymmetric, random walk filter.\n",
            "statsmodels.tsa.filters.hp_filter.hpfilter\n",
            "    Hodrick-Prescott filter.\n",
            "statsmodels.tsa.filters.convolution_filter\n",
            "    Linear filtering via convolution.\n",
            "statsmodels.tsa.seasonal.STL\n",
            "    Season-Trend decomposition using LOESS.\n",
            "\n",
            "Notes\n",
            "-----\n",
            "This is a naive decomposition. More sophisticated methods should\n",
            "be preferred.\n",
            "\n",
            "The additive model is Y[t] = T[t] + S[t] + e[t]\n",
            "\n",
            "The multiplicative model is Y[t] = T[t] * S[t] * e[t]\n",
            "\n",
            "The results are obtained by first estimating the trend by applying\n",
            "a convolution filter to the data. The trend is then removed from the\n",
            "series and the average of this de-trended series for each period is\n",
            "the returned seasonal component.\n",
            "\u001b[1;31mFile:\u001b[0m      c:\\users\\saad9\\appdata\\local\\programs\\python\\python312\\lib\\site-packages\\statsmodels\\tsa\\seasonal.py\n",
            "\u001b[1;31mType:\u001b[0m      function"
          ]
        }
      ],
      "source": [
        "seasonal_decompose?"
      ]
    },
    {
      "cell_type": "code",
      "execution_count": 56,
      "id": "05f6fffa",
      "metadata": {
        "colab": {
          "base_uri": "https://localhost:8080/",
          "height": 263
        },
        "id": "05f6fffa",
        "outputId": "715d9b4d-ba4e-4548-b8e9-e76043699aa8"
      },
      "outputs": [
        {
          "data": {
            "image/png": "[encoded data removed]",
            "text/plain": [
              "<Figure size 640x480 with 4 Axes>"
            ]
          },
          "execution_count": 56,
          "metadata": {},
          "output_type": "execute_result"
        },
        {
          "data": {
            "image/png": "[encoded data removed]",
            "text/plain": [
              "<Figure size 640x480 with 4 Axes>"
            ]
          },
          "metadata": {},
          "output_type": "display_data"
        }
      ],
      "source": [
        "decompose  = seasonal_decompose(df.set_index('date_time')['traffic_volume'].dropna(), model='additive', period=365)\n",
        "decompose.plot()"
      ]
    },
    {
      "cell_type": "code",
      "execution_count": 57,
      "id": "64bfc759",
      "metadata": {},
      "outputs": [
        {
          "data": {
            "text/plain": [
              "[<matplotlib.lines.Line2D at 0x19aa31f7f20>]"
            ]
          },
          "execution_count": 57,
          "metadata": {},
          "output_type": "execute_result"
        },
        {
          "data": {
            "image/png": "[encoded data removed]",
            "text/plain": [
              "<Figure size 1500x600 with 1 Axes>"
            ]
          },
          "metadata": {},
          "output_type": "display_data"
        }
      ],
      "source": [
        "plt.figure(figsize=(15,6))\n",
        "plt.plot(df['traffic_volume'])"
      ]
    },
    {
      "cell_type": "markdown",
      "id": "5827fb18",
      "metadata": {
        "id": "5827fb18"
      },
      "source": [
        "## Data Preprocessing\n",
        "\n",
        "Clean and preprocess the data.\n",
        "\n",
        "**Instructions:**\n",
        "- Handle any missing values in the dataset.\n",
        "- If necessary, resample the data to ensure consistent time intervals.\n",
        "- Create any additional features needed, such as lags or moving averages.\n",
        "- Make sure that the dates are sorted correctly.\n",
        "\n",
        "Do more if needed!"
      ]
    },
    {
      "cell_type": "code",
      "execution_count": 58,
      "id": "c27410bc",
      "metadata": {
        "id": "c27410bc"
      },
      "outputs": [
        {
          "data": {
            "text/plain": [
              "traffic_volume         20\n",
              "temp                    0\n",
              "rain_1h                 0\n",
              "snow_1h                 0\n",
              "clouds_all              0\n",
              "weather_main            0\n",
              "weather_description     0\n",
              "date_time               0\n",
              "dtype: int64"
            ]
          },
          "execution_count": 58,
          "metadata": {},
          "output_type": "execute_result"
        }
      ],
      "source": [
        "df.isnull().sum()"
      ]
    },
    {
      "cell_type": "code",
      "execution_count": 59,
      "id": "764e93d3",
      "metadata": {},
      "outputs": [
        {
          "data": {
            "text/plain": [
              "traffic_volume         0\n",
              "temp                   0\n",
              "rain_1h                0\n",
              "snow_1h                0\n",
              "clouds_all             0\n",
              "weather_main           0\n",
              "weather_description    0\n",
              "date_time              0\n",
              "dtype: int64"
            ]
          },
          "execution_count": 59,
          "metadata": {},
          "output_type": "execute_result"
        }
      ],
      "source": [
        "df.fillna(method='bfill', inplace=True)\n",
        "df.isnull().sum()"
      ]
    },
    {
      "cell_type": "code",
      "execution_count": 60,
      "id": "dfbba431",
      "metadata": {},
      "outputs": [
        {
          "data": {
            "text/plain": [
              "12"
            ]
          },
          "execution_count": 60,
          "metadata": {},
          "output_type": "execute_result"
        }
      ],
      "source": [
        "df.duplicated().sum()"
      ]
    },
    {
      "cell_type": "code",
      "execution_count": 61,
      "id": "695cd24e",
      "metadata": {},
      "outputs": [
        {
          "data": {
            "text/plain": [
              "0"
            ]
          },
          "execution_count": 61,
          "metadata": {},
          "output_type": "execute_result"
        }
      ],
      "source": [
        "df.drop_duplicates(inplace=True)\n",
        "df.duplicated().sum()"
      ]
    },
    {
      "cell_type": "code",
      "execution_count": 62,
      "id": "5a2680b1",
      "metadata": {},
      "outputs": [],
      "source": [
        "df['date_time'] = df['date_time']\n",
        "df = df.set_index('date_time')"
      ]
    },
    {
      "cell_type": "markdown",
      "id": "10def3f0",
      "metadata": {
        "id": "10def3f0"
      },
      "source": [
        "## Feature Engineering\n",
        "\n",
        "### Instructions:\n",
        "  \n",
        "- **Shift Method**: Use the `shift` method to create a new column `prev_traffic_volume`, which represents the previous day's traffic volume.\n",
        "\n",
        "- **Difference between traffic_volume**: Calculate the difference between the values in `traffic_volume` column to highlight short-term volume.\n",
        "\n",
        "- **Date Features**: Extract meaningful time-based features from the `date_time` column to enhance the model's ability to detect temporal patterns. These features include:\n",
        "  - **Day of the week**: To capture weekly seasonality.\n",
        "  - **Month**: To capture monthly trends.\n",
        "  - **Day of the year**: Useful for modeling yearly seasonality.\n"
      ]
    },
    {
      "cell_type": "code",
      "execution_count": 63,
      "id": "d62cd837",
      "metadata": {
        "id": "d62cd837"
      },
      "outputs": [
        {
          "data": {
            "text/html": [
              "<div>\n",
              "<style scoped>\n",
              "    .dataframe tbody tr th:only-of-type {\n",
              "        vertical-align: middle;\n",
              "    }\n",
              "\n",
              "    .dataframe tbody tr th {\n",
              "        vertical-align: top;\n",
              "    }\n",
              "\n",
              "    .dataframe thead th {\n",
              "        text-align: right;\n",
              "    }\n",
              "</style>\n",
              "<table border=\"1\" class=\"dataframe\">\n",
              "  <thead>\n",
              "    <tr style=\"text-align: right;\">\n",
              "      <th></th>\n",
              "      <th>traffic_volume</th>\n",
              "      <th>temp</th>\n",
              "      <th>rain_1h</th>\n",
              "      <th>snow_1h</th>\n",
              "      <th>clouds_all</th>\n",
              "      <th>weather_main</th>\n",
              "      <th>weather_description</th>\n",
              "      <th>prev_traffic_volume</th>\n",
              "      <th>DayOfWeek</th>\n",
              "      <th>Month</th>\n",
              "      <th>DayOfYear</th>\n",
              "      <th>diff_traffic_volume</th>\n",
              "    </tr>\n",
              "    <tr>\n",
              "      <th>date_time</th>\n",
              "      <th></th>\n",
              "      <th></th>\n",
              "      <th></th>\n",
              "      <th></th>\n",
              "      <th></th>\n",
              "      <th></th>\n",
              "      <th></th>\n",
              "      <th></th>\n",
              "      <th></th>\n",
              "      <th></th>\n",
              "      <th></th>\n",
              "      <th></th>\n",
              "    </tr>\n",
              "  </thead>\n",
              "  <tbody>\n",
              "    <tr>\n",
              "      <th>2017-08-27 01:00:00</th>\n",
              "      <td>1209.0</td>\n",
              "      <td>291.15</td>\n",
              "      <td>0.0</td>\n",
              "      <td>0.0</td>\n",
              "      <td>90</td>\n",
              "      <td>Mist</td>\n",
              "      <td>mist</td>\n",
              "      <td>NaN</td>\n",
              "      <td>6</td>\n",
              "      <td>8</td>\n",
              "      <td>239</td>\n",
              "      <td>NaN</td>\n",
              "    </tr>\n",
              "    <tr>\n",
              "      <th>2018-09-06 23:00:00</th>\n",
              "      <td>1248.0</td>\n",
              "      <td>286.01</td>\n",
              "      <td>0.0</td>\n",
              "      <td>0.0</td>\n",
              "      <td>1</td>\n",
              "      <td>Clear</td>\n",
              "      <td>sky is clear</td>\n",
              "      <td>1209.0</td>\n",
              "      <td>3</td>\n",
              "      <td>9</td>\n",
              "      <td>249</td>\n",
              "      <td>39.0</td>\n",
              "    </tr>\n",
              "    <tr>\n",
              "      <th>2017-08-25 18:00:00</th>\n",
              "      <td>4602.0</td>\n",
              "      <td>293.69</td>\n",
              "      <td>0.0</td>\n",
              "      <td>0.0</td>\n",
              "      <td>75</td>\n",
              "      <td>Clouds</td>\n",
              "      <td>broken clouds</td>\n",
              "      <td>1248.0</td>\n",
              "      <td>4</td>\n",
              "      <td>8</td>\n",
              "      <td>237</td>\n",
              "      <td>3354.0</td>\n",
              "    </tr>\n",
              "    <tr>\n",
              "      <th>2017-11-09 22:00:00</th>\n",
              "      <td>2838.0</td>\n",
              "      <td>262.35</td>\n",
              "      <td>0.0</td>\n",
              "      <td>0.0</td>\n",
              "      <td>1</td>\n",
              "      <td>Clear</td>\n",
              "      <td>sky is clear</td>\n",
              "      <td>4602.0</td>\n",
              "      <td>3</td>\n",
              "      <td>11</td>\n",
              "      <td>313</td>\n",
              "      <td>-1764.0</td>\n",
              "    </tr>\n",
              "    <tr>\n",
              "      <th>2017-11-09 15:00:00</th>\n",
              "      <td>5794.0</td>\n",
              "      <td>267.08</td>\n",
              "      <td>0.0</td>\n",
              "      <td>0.0</td>\n",
              "      <td>5</td>\n",
              "      <td>Clear</td>\n",
              "      <td>sky is clear</td>\n",
              "      <td>2838.0</td>\n",
              "      <td>3</td>\n",
              "      <td>11</td>\n",
              "      <td>313</td>\n",
              "      <td>2956.0</td>\n",
              "    </tr>\n",
              "    <tr>\n",
              "      <th>...</th>\n",
              "      <td>...</td>\n",
              "      <td>...</td>\n",
              "      <td>...</td>\n",
              "      <td>...</td>\n",
              "      <td>...</td>\n",
              "      <td>...</td>\n",
              "      <td>...</td>\n",
              "      <td>...</td>\n",
              "      <td>...</td>\n",
              "      <td>...</td>\n",
              "      <td>...</td>\n",
              "      <td>...</td>\n",
              "    </tr>\n",
              "    <tr>\n",
              "      <th>2018-06-06 21:00:00</th>\n",
              "      <td>2723.0</td>\n",
              "      <td>296.42</td>\n",
              "      <td>0.0</td>\n",
              "      <td>0.0</td>\n",
              "      <td>40</td>\n",
              "      <td>Clouds</td>\n",
              "      <td>scattered clouds</td>\n",
              "      <td>6601.0</td>\n",
              "      <td>2</td>\n",
              "      <td>6</td>\n",
              "      <td>157</td>\n",
              "      <td>-3878.0</td>\n",
              "    </tr>\n",
              "    <tr>\n",
              "      <th>2017-10-25 15:00:00</th>\n",
              "      <td>5895.0</td>\n",
              "      <td>285.58</td>\n",
              "      <td>0.0</td>\n",
              "      <td>0.0</td>\n",
              "      <td>40</td>\n",
              "      <td>Clouds</td>\n",
              "      <td>scattered clouds</td>\n",
              "      <td>2723.0</td>\n",
              "      <td>2</td>\n",
              "      <td>10</td>\n",
              "      <td>298</td>\n",
              "      <td>3172.0</td>\n",
              "    </tr>\n",
              "    <tr>\n",
              "      <th>2018-03-28 23:00:00</th>\n",
              "      <td>1132.0</td>\n",
              "      <td>275.30</td>\n",
              "      <td>0.0</td>\n",
              "      <td>0.0</td>\n",
              "      <td>1</td>\n",
              "      <td>Clear</td>\n",
              "      <td>sky is clear</td>\n",
              "      <td>5895.0</td>\n",
              "      <td>2</td>\n",
              "      <td>3</td>\n",
              "      <td>87</td>\n",
              "      <td>-4763.0</td>\n",
              "    </tr>\n",
              "    <tr>\n",
              "      <th>2018-02-12 15:00:00</th>\n",
              "      <td>5525.0</td>\n",
              "      <td>260.94</td>\n",
              "      <td>0.0</td>\n",
              "      <td>0.0</td>\n",
              "      <td>75</td>\n",
              "      <td>Clouds</td>\n",
              "      <td>broken clouds</td>\n",
              "      <td>1132.0</td>\n",
              "      <td>0</td>\n",
              "      <td>2</td>\n",
              "      <td>43</td>\n",
              "      <td>4393.0</td>\n",
              "    </tr>\n",
              "    <tr>\n",
              "      <th>2018-05-31 18:00:00</th>\n",
              "      <td>5042.0</td>\n",
              "      <td>301.65</td>\n",
              "      <td>0.0</td>\n",
              "      <td>0.0</td>\n",
              "      <td>40</td>\n",
              "      <td>Clouds</td>\n",
              "      <td>scattered clouds</td>\n",
              "      <td>5525.0</td>\n",
              "      <td>3</td>\n",
              "      <td>5</td>\n",
              "      <td>151</td>\n",
              "      <td>-483.0</td>\n",
              "    </tr>\n",
              "  </tbody>\n",
              "</table>\n",
              "<p>19988 rows × 12 columns</p>\n",
              "</div>"
            ],
            "text/plain": [
              "                     traffic_volume    temp  rain_1h  snow_1h  clouds_all  \\\n",
              "date_time                                                                   \n",
              "2017-08-27 01:00:00          1209.0  291.15      0.0      0.0          90   \n",
              "2018-09-06 23:00:00          1248.0  286.01      0.0      0.0           1   \n",
              "2017-08-25 18:00:00          4602.0  293.69      0.0      0.0          75   \n",
              "2017-11-09 22:00:00          2838.0  262.35      0.0      0.0           1   \n",
              "2017-11-09 15:00:00          5794.0  267.08      0.0      0.0           5   \n",
              "...                             ...     ...      ...      ...         ...   \n",
              "2018-06-06 21:00:00          2723.0  296.42      0.0      0.0          40   \n",
              "2017-10-25 15:00:00          5895.0  285.58      0.0      0.0          40   \n",
              "2018-03-28 23:00:00          1132.0  275.30      0.0      0.0           1   \n",
              "2018-02-12 15:00:00          5525.0  260.94      0.0      0.0          75   \n",
              "2018-05-31 18:00:00          5042.0  301.65      0.0      0.0          40   \n",
              "\n",
              "                    weather_main weather_description  prev_traffic_volume  \\\n",
              "date_time                                                                   \n",
              "2017-08-27 01:00:00         Mist                mist                  NaN   \n",
              "2018-09-06 23:00:00        Clear        sky is clear               1209.0   \n",
              "2017-08-25 18:00:00       Clouds       broken clouds               1248.0   \n",
              "2017-11-09 22:00:00        Clear        sky is clear               4602.0   \n",
              "2017-11-09 15:00:00        Clear        sky is clear               2838.0   \n",
              "...                          ...                 ...                  ...   \n",
              "2018-06-06 21:00:00       Clouds    scattered clouds               6601.0   \n",
              "2017-10-25 15:00:00       Clouds    scattered clouds               2723.0   \n",
              "2018-03-28 23:00:00        Clear        sky is clear               5895.0   \n",
              "2018-02-12 15:00:00       Clouds       broken clouds               1132.0   \n",
              "2018-05-31 18:00:00       Clouds    scattered clouds               5525.0   \n",
              "\n",
              "                     DayOfWeek  Month  DayOfYear  diff_traffic_volume  \n",
              "date_time                                                              \n",
              "2017-08-27 01:00:00          6      8        239                  NaN  \n",
              "2018-09-06 23:00:00          3      9        249                 39.0  \n",
              "2017-08-25 18:00:00          4      8        237               3354.0  \n",
              "2017-11-09 22:00:00          3     11        313              -1764.0  \n",
              "2017-11-09 15:00:00          3     11        313               2956.0  \n",
              "...                        ...    ...        ...                  ...  \n",
              "2018-06-06 21:00:00          2      6        157              -3878.0  \n",
              "2017-10-25 15:00:00          2     10        298               3172.0  \n",
              "2018-03-28 23:00:00          2      3         87              -4763.0  \n",
              "2018-02-12 15:00:00          0      2         43               4393.0  \n",
              "2018-05-31 18:00:00          3      5        151               -483.0  \n",
              "\n",
              "[19988 rows x 12 columns]"
            ]
          },
          "execution_count": 63,
          "metadata": {},
          "output_type": "execute_result"
        }
      ],
      "source": [
        "df['prev_traffic_volume'] = df['traffic_volume'].shift(1)\n",
        "df['DayOfWeek'] = df.index.dayofweek\n",
        "df['Month'] = df.index.month\n",
        "df['DayOfYear'] = df.index.dayofyear\n",
        "df['diff_traffic_volume'] = df['traffic_volume'].diff()\n",
        "df"
      ]
    },
    {
      "cell_type": "markdown",
      "id": "3f9fe326",
      "metadata": {
        "id": "3f9fe326"
      },
      "source": [
        "## Train-Test Split\n",
        "\n",
        "Split the dataset into training and testing sets.\n",
        "\n",
        "**Instructions:**\n",
        "- Ensure the split maintains the time order of the data.\n",
        "- Decide on an appropriate ratio for splitting the data."
      ]
    },
    {
      "cell_type": "code",
      "execution_count": 64,
      "id": "16ac8927",
      "metadata": {},
      "outputs": [
        {
          "data": {
            "text/html": [
              "<div>\n",
              "<style scoped>\n",
              "    .dataframe tbody tr th:only-of-type {\n",
              "        vertical-align: middle;\n",
              "    }\n",
              "\n",
              "    .dataframe tbody tr th {\n",
              "        vertical-align: top;\n",
              "    }\n",
              "\n",
              "    .dataframe thead th {\n",
              "        text-align: right;\n",
              "    }\n",
              "</style>\n",
              "<table border=\"1\" class=\"dataframe\">\n",
              "  <thead>\n",
              "    <tr style=\"text-align: right;\">\n",
              "      <th></th>\n",
              "      <th>traffic_volume</th>\n",
              "      <th>temp</th>\n",
              "      <th>rain_1h</th>\n",
              "      <th>snow_1h</th>\n",
              "      <th>clouds_all</th>\n",
              "      <th>weather_main</th>\n",
              "      <th>weather_description</th>\n",
              "      <th>prev_traffic_volume</th>\n",
              "      <th>DayOfWeek</th>\n",
              "      <th>Month</th>\n",
              "      <th>DayOfYear</th>\n",
              "      <th>diff_traffic_volume</th>\n",
              "    </tr>\n",
              "    <tr>\n",
              "      <th>date_time</th>\n",
              "      <th></th>\n",
              "      <th></th>\n",
              "      <th></th>\n",
              "      <th></th>\n",
              "      <th></th>\n",
              "      <th></th>\n",
              "      <th></th>\n",
              "      <th></th>\n",
              "      <th></th>\n",
              "      <th></th>\n",
              "      <th></th>\n",
              "      <th></th>\n",
              "    </tr>\n",
              "  </thead>\n",
              "  <tbody>\n",
              "    <tr>\n",
              "      <th>2016-11-18 15:00:00</th>\n",
              "      <td>4872.0</td>\n",
              "      <td>274.08</td>\n",
              "      <td>0.0</td>\n",
              "      <td>0.0</td>\n",
              "      <td>90</td>\n",
              "      <td>Snow</td>\n",
              "      <td>heavy snow</td>\n",
              "      <td>3403.0</td>\n",
              "      <td>4</td>\n",
              "      <td>11</td>\n",
              "      <td>323</td>\n",
              "      <td>1469.0</td>\n",
              "    </tr>\n",
              "    <tr>\n",
              "      <th>2016-11-18 15:00:00</th>\n",
              "      <td>4872.0</td>\n",
              "      <td>274.08</td>\n",
              "      <td>0.0</td>\n",
              "      <td>0.0</td>\n",
              "      <td>90</td>\n",
              "      <td>Fog</td>\n",
              "      <td>fog</td>\n",
              "      <td>3253.0</td>\n",
              "      <td>4</td>\n",
              "      <td>11</td>\n",
              "      <td>323</td>\n",
              "      <td>1619.0</td>\n",
              "    </tr>\n",
              "    <tr>\n",
              "      <th>2016-11-18 15:00:00</th>\n",
              "      <td>4872.0</td>\n",
              "      <td>274.08</td>\n",
              "      <td>0.0</td>\n",
              "      <td>0.0</td>\n",
              "      <td>90</td>\n",
              "      <td>Mist</td>\n",
              "      <td>mist</td>\n",
              "      <td>6038.0</td>\n",
              "      <td>4</td>\n",
              "      <td>11</td>\n",
              "      <td>323</td>\n",
              "      <td>-1166.0</td>\n",
              "    </tr>\n",
              "    <tr>\n",
              "      <th>2016-11-18 16:00:00</th>\n",
              "      <td>5074.0</td>\n",
              "      <td>273.84</td>\n",
              "      <td>0.0</td>\n",
              "      <td>0.0</td>\n",
              "      <td>90</td>\n",
              "      <td>Snow</td>\n",
              "      <td>heavy snow</td>\n",
              "      <td>775.0</td>\n",
              "      <td>4</td>\n",
              "      <td>11</td>\n",
              "      <td>323</td>\n",
              "      <td>4299.0</td>\n",
              "    </tr>\n",
              "    <tr>\n",
              "      <th>2016-11-18 16:00:00</th>\n",
              "      <td>5074.0</td>\n",
              "      <td>273.84</td>\n",
              "      <td>0.0</td>\n",
              "      <td>0.0</td>\n",
              "      <td>90</td>\n",
              "      <td>Fog</td>\n",
              "      <td>fog</td>\n",
              "      <td>2453.0</td>\n",
              "      <td>4</td>\n",
              "      <td>11</td>\n",
              "      <td>323</td>\n",
              "      <td>2621.0</td>\n",
              "    </tr>\n",
              "    <tr>\n",
              "      <th>...</th>\n",
              "      <td>...</td>\n",
              "      <td>...</td>\n",
              "      <td>...</td>\n",
              "      <td>...</td>\n",
              "      <td>...</td>\n",
              "      <td>...</td>\n",
              "      <td>...</td>\n",
              "      <td>...</td>\n",
              "      <td>...</td>\n",
              "      <td>...</td>\n",
              "      <td>...</td>\n",
              "      <td>...</td>\n",
              "    </tr>\n",
              "    <tr>\n",
              "      <th>2018-09-30 19:00:00</th>\n",
              "      <td>3543.0</td>\n",
              "      <td>283.45</td>\n",
              "      <td>0.0</td>\n",
              "      <td>0.0</td>\n",
              "      <td>75</td>\n",
              "      <td>Clouds</td>\n",
              "      <td>broken clouds</td>\n",
              "      <td>4457.0</td>\n",
              "      <td>6</td>\n",
              "      <td>9</td>\n",
              "      <td>273</td>\n",
              "      <td>-914.0</td>\n",
              "    </tr>\n",
              "    <tr>\n",
              "      <th>2018-09-30 20:00:00</th>\n",
              "      <td>2781.0</td>\n",
              "      <td>282.76</td>\n",
              "      <td>0.0</td>\n",
              "      <td>0.0</td>\n",
              "      <td>90</td>\n",
              "      <td>Clouds</td>\n",
              "      <td>overcast clouds</td>\n",
              "      <td>519.0</td>\n",
              "      <td>6</td>\n",
              "      <td>9</td>\n",
              "      <td>273</td>\n",
              "      <td>2262.0</td>\n",
              "    </tr>\n",
              "    <tr>\n",
              "      <th>2018-09-30 21:00:00</th>\n",
              "      <td>2159.0</td>\n",
              "      <td>282.73</td>\n",
              "      <td>0.0</td>\n",
              "      <td>0.0</td>\n",
              "      <td>90</td>\n",
              "      <td>Thunderstorm</td>\n",
              "      <td>proximity thunderstorm</td>\n",
              "      <td>6146.0</td>\n",
              "      <td>6</td>\n",
              "      <td>9</td>\n",
              "      <td>273</td>\n",
              "      <td>-3987.0</td>\n",
              "    </tr>\n",
              "    <tr>\n",
              "      <th>2018-09-30 22:00:00</th>\n",
              "      <td>1450.0</td>\n",
              "      <td>282.09</td>\n",
              "      <td>0.0</td>\n",
              "      <td>0.0</td>\n",
              "      <td>90</td>\n",
              "      <td>Clouds</td>\n",
              "      <td>overcast clouds</td>\n",
              "      <td>3027.0</td>\n",
              "      <td>6</td>\n",
              "      <td>9</td>\n",
              "      <td>273</td>\n",
              "      <td>-1577.0</td>\n",
              "    </tr>\n",
              "    <tr>\n",
              "      <th>2018-09-30 23:00:00</th>\n",
              "      <td>954.0</td>\n",
              "      <td>282.12</td>\n",
              "      <td>0.0</td>\n",
              "      <td>0.0</td>\n",
              "      <td>90</td>\n",
              "      <td>Clouds</td>\n",
              "      <td>overcast clouds</td>\n",
              "      <td>3350.0</td>\n",
              "      <td>6</td>\n",
              "      <td>9</td>\n",
              "      <td>273</td>\n",
              "      <td>-2396.0</td>\n",
              "    </tr>\n",
              "  </tbody>\n",
              "</table>\n",
              "<p>19987 rows × 12 columns</p>\n",
              "</div>"
            ],
            "text/plain": [
              "                     traffic_volume    temp  rain_1h  snow_1h  clouds_all  \\\n",
              "date_time                                                                   \n",
              "2016-11-18 15:00:00          4872.0  274.08      0.0      0.0          90   \n",
              "2016-11-18 15:00:00          4872.0  274.08      0.0      0.0          90   \n",
              "2016-11-18 15:00:00          4872.0  274.08      0.0      0.0          90   \n",
              "2016-11-18 16:00:00          5074.0  273.84      0.0      0.0          90   \n",
              "2016-11-18 16:00:00          5074.0  273.84      0.0      0.0          90   \n",
              "...                             ...     ...      ...      ...         ...   \n",
              "2018-09-30 19:00:00          3543.0  283.45      0.0      0.0          75   \n",
              "2018-09-30 20:00:00          2781.0  282.76      0.0      0.0          90   \n",
              "2018-09-30 21:00:00          2159.0  282.73      0.0      0.0          90   \n",
              "2018-09-30 22:00:00          1450.0  282.09      0.0      0.0          90   \n",
              "2018-09-30 23:00:00           954.0  282.12      0.0      0.0          90   \n",
              "\n",
              "                     weather_main     weather_description  \\\n",
              "date_time                                                   \n",
              "2016-11-18 15:00:00          Snow              heavy snow   \n",
              "2016-11-18 15:00:00           Fog                     fog   \n",
              "2016-11-18 15:00:00          Mist                    mist   \n",
              "2016-11-18 16:00:00          Snow              heavy snow   \n",
              "2016-11-18 16:00:00           Fog                     fog   \n",
              "...                           ...                     ...   \n",
              "2018-09-30 19:00:00        Clouds           broken clouds   \n",
              "2018-09-30 20:00:00        Clouds         overcast clouds   \n",
              "2018-09-30 21:00:00  Thunderstorm  proximity thunderstorm   \n",
              "2018-09-30 22:00:00        Clouds         overcast clouds   \n",
              "2018-09-30 23:00:00        Clouds         overcast clouds   \n",
              "\n",
              "                     prev_traffic_volume  DayOfWeek  Month  DayOfYear  \\\n",
              "date_time                                                               \n",
              "2016-11-18 15:00:00               3403.0          4     11        323   \n",
              "2016-11-18 15:00:00               3253.0          4     11        323   \n",
              "2016-11-18 15:00:00               6038.0          4     11        323   \n",
              "2016-11-18 16:00:00                775.0          4     11        323   \n",
              "2016-11-18 16:00:00               2453.0          4     11        323   \n",
              "...                                  ...        ...    ...        ...   \n",
              "2018-09-30 19:00:00               4457.0          6      9        273   \n",
              "2018-09-30 20:00:00                519.0          6      9        273   \n",
              "2018-09-30 21:00:00               6146.0          6      9        273   \n",
              "2018-09-30 22:00:00               3027.0          6      9        273   \n",
              "2018-09-30 23:00:00               3350.0          6      9        273   \n",
              "\n",
              "                     diff_traffic_volume  \n",
              "date_time                                 \n",
              "2016-11-18 15:00:00               1469.0  \n",
              "2016-11-18 15:00:00               1619.0  \n",
              "2016-11-18 15:00:00              -1166.0  \n",
              "2016-11-18 16:00:00               4299.0  \n",
              "2016-11-18 16:00:00               2621.0  \n",
              "...                                  ...  \n",
              "2018-09-30 19:00:00               -914.0  \n",
              "2018-09-30 20:00:00               2262.0  \n",
              "2018-09-30 21:00:00              -3987.0  \n",
              "2018-09-30 22:00:00              -1577.0  \n",
              "2018-09-30 23:00:00              -2396.0  \n",
              "\n",
              "[19987 rows x 12 columns]"
            ]
          },
          "execution_count": 64,
          "metadata": {},
          "output_type": "execute_result"
        }
      ],
      "source": [
        "df.dropna(inplace=True)\n",
        "df.sort_index(inplace=True)\n",
        "df"
      ]
    },
    {
      "cell_type": "code",
      "execution_count": 65,
      "id": "0f00dfca",
      "metadata": {},
      "outputs": [
        {
          "ename": "ValueError",
          "evalue": "Failed to convert a NumPy array to a Tensor (Unsupported object type float).",
          "output_type": "error",
          "traceback": [
            "\u001b[1;31m---------------------------------------------------------------------------\u001b[0m",
            "\u001b[1;31mTypeError\u001b[0m                                 Traceback (most recent call last)",
            "File \u001b[1;32mc:\\Users\\saad9\\AppData\\Local\\Programs\\Python\\Python312\\Lib\\site-packages\\tensorflow\\python\\data\\util\\structure.py:105\u001b[0m, in \u001b[0;36mnormalize_element\u001b[1;34m(element, element_signature)\u001b[0m\n\u001b[0;32m    104\u001b[0m   \u001b[38;5;28;01mif\u001b[39;00m spec \u001b[38;5;129;01mis\u001b[39;00m \u001b[38;5;28;01mNone\u001b[39;00m:\n\u001b[1;32m--> 105\u001b[0m     spec \u001b[38;5;241m=\u001b[39m \u001b[43mtype_spec_from_value\u001b[49m\u001b[43m(\u001b[49m\u001b[43mt\u001b[49m\u001b[43m,\u001b[49m\u001b[43m \u001b[49m\u001b[43muse_fallback\u001b[49m\u001b[38;5;241;43m=\u001b[39;49m\u001b[38;5;28;43;01mFalse\u001b[39;49;00m\u001b[43m)\u001b[49m\n\u001b[0;32m    106\u001b[0m \u001b[38;5;28;01mexcept\u001b[39;00m \u001b[38;5;167;01mTypeError\u001b[39;00m:\n\u001b[0;32m    107\u001b[0m   \u001b[38;5;66;03m# TypeError indicates it was not possible to compute a `TypeSpec` for\u001b[39;00m\n\u001b[0;32m    108\u001b[0m   \u001b[38;5;66;03m# the value. As a fallback try converting the value to a tensor.\u001b[39;00m\n",
            "File \u001b[1;32mc:\\Users\\saad9\\AppData\\Local\\Programs\\Python\\Python312\\Lib\\site-packages\\tensorflow\\python\\data\\util\\structure.py:514\u001b[0m, in \u001b[0;36mtype_spec_from_value\u001b[1;34m(element, use_fallback)\u001b[0m\n\u001b[0;32m    511\u001b[0m     logging\u001b[38;5;241m.\u001b[39mvlog(\n\u001b[0;32m    512\u001b[0m         \u001b[38;5;241m3\u001b[39m, \u001b[38;5;124m\"\u001b[39m\u001b[38;5;124mFailed to convert \u001b[39m\u001b[38;5;132;01m%r\u001b[39;00m\u001b[38;5;124m to tensor: \u001b[39m\u001b[38;5;132;01m%s\u001b[39;00m\u001b[38;5;124m\"\u001b[39m \u001b[38;5;241m%\u001b[39m (\u001b[38;5;28mtype\u001b[39m(element)\u001b[38;5;241m.\u001b[39m\u001b[38;5;18m__name__\u001b[39m, e))\n\u001b[1;32m--> 514\u001b[0m \u001b[38;5;28;01mraise\u001b[39;00m \u001b[38;5;167;01mTypeError\u001b[39;00m(\u001b[38;5;124m\"\u001b[39m\u001b[38;5;124mCould not build a `TypeSpec` for \u001b[39m\u001b[38;5;132;01m{}\u001b[39;00m\u001b[38;5;124m with type \u001b[39m\u001b[38;5;132;01m{}\u001b[39;00m\u001b[38;5;124m\"\u001b[39m\u001b[38;5;241m.\u001b[39mformat(\n\u001b[0;32m    515\u001b[0m     element,\n\u001b[0;32m    516\u001b[0m     \u001b[38;5;28mtype\u001b[39m(element)\u001b[38;5;241m.\u001b[39m\u001b[38;5;18m__name__\u001b[39m))\n",
            "\u001b[1;31mTypeError\u001b[0m: Could not build a `TypeSpec` for                      traffic_volume    temp  rain_1h  snow_1h  clouds_all  \\\ndate_time                                                                   \n2016-11-18 15:00:00          4872.0  274.08      0.0      0.0          90   \n2016-11-18 15:00:00          4872.0  274.08      0.0      0.0          90   \n2016-11-18 15:00:00          4872.0  274.08      0.0      0.0          90   \n2016-11-18 16:00:00          5074.0  273.84      0.0      0.0          90   \n2016-11-18 16:00:00          5074.0  273.84      0.0      0.0          90   \n...                             ...     ...      ...      ...         ...   \n2018-09-30 19:00:00          3543.0  283.45      0.0      0.0          75   \n2018-09-30 20:00:00          2781.0  282.76      0.0      0.0          90   \n2018-09-30 21:00:00          2159.0  282.73      0.0      0.0          90   \n2018-09-30 22:00:00          1450.0  282.09      0.0      0.0          90   \n2018-09-30 23:00:00           954.0  282.12      0.0      0.0          90   \n\n                     weather_main     weather_description  \\\ndate_time                                                   \n2016-11-18 15:00:00          Snow              heavy snow   \n2016-11-18 15:00:00           Fog                     fog   \n2016-11-18 15:00:00          Mist                    mist   \n2016-11-18 16:00:00          Snow              heavy snow   \n2016-11-18 16:00:00           Fog                     fog   \n...                           ...                     ...   \n2018-09-30 19:00:00        Clouds           broken clouds   \n2018-09-30 20:00:00        Clouds         overcast clouds   \n2018-09-30 21:00:00  Thunderstorm  proximity thunderstorm   \n2018-09-30 22:00:00        Clouds         overcast clouds   \n2018-09-30 23:00:00        Clouds         overcast clouds   \n\n                     prev_traffic_volume  DayOfWeek  Month  DayOfYear  \\\ndate_time                                                               \n2016-11-18 15:00:00               3403.0          4     11        323   \n2016-11-18 15:00:00               3253.0          4     11        323   \n2016-11-18 15:00:00               6038.0          4     11        323   \n2016-11-18 16:00:00                775.0          4     11        323   \n2016-11-18 16:00:00               2453.0          4     11        323   \n...                                  ...        ...    ...        ...   \n2018-09-30 19:00:00               4457.0          6      9        273   \n2018-09-30 20:00:00                519.0          6      9        273   \n2018-09-30 21:00:00               6146.0          6      9        273   \n2018-09-30 22:00:00               3027.0          6      9        273   \n2018-09-30 23:00:00               3350.0          6      9        273   \n\n                     diff_traffic_volume  \ndate_time                                 \n2016-11-18 15:00:00               1469.0  \n2016-11-18 15:00:00               1619.0  \n2016-11-18 15:00:00              -1166.0  \n2016-11-18 16:00:00               4299.0  \n2016-11-18 16:00:00               2621.0  \n...                                  ...  \n2018-09-30 19:00:00               -914.0  \n2018-09-30 20:00:00               2262.0  \n2018-09-30 21:00:00              -3987.0  \n2018-09-30 22:00:00              -1577.0  \n2018-09-30 23:00:00              -2396.0  \n\n[19987 rows x 12 columns] with type DataFrame",
            "\nDuring handling of the above exception, another exception occurred:\n",
            "\u001b[1;31mValueError\u001b[0m                                Traceback (most recent call last)",
            "Cell \u001b[1;32mIn[65], line 2\u001b[0m\n\u001b[0;32m      1\u001b[0m \u001b[38;5;28;01mfrom\u001b[39;00m \u001b[38;5;21;01mtensorflow\u001b[39;00m\u001b[38;5;21;01m.\u001b[39;00m\u001b[38;5;21;01mkeras\u001b[39;00m\u001b[38;5;21;01m.\u001b[39;00m\u001b[38;5;21;01mpreprocessing\u001b[39;00m \u001b[38;5;28;01mimport\u001b[39;00m timeseries_dataset_from_array\n\u001b[1;32m----> 2\u001b[0m df_to_X_y \u001b[38;5;241m=\u001b[39m \u001b[43mtimeseries_dataset_from_array\u001b[49m\u001b[43m(\u001b[49m\u001b[43mdf\u001b[49m\u001b[43m,\u001b[49m\u001b[43m \u001b[49m\u001b[43mdf\u001b[49m\u001b[43m[\u001b[49m\u001b[38;5;124;43m'\u001b[39;49m\u001b[38;5;124;43mtraffic_volume\u001b[39;49m\u001b[38;5;124;43m'\u001b[39;49m\u001b[43m]\u001b[49m\u001b[43m,\u001b[49m\u001b[43m \u001b[49m\u001b[43msequence_length\u001b[49m\u001b[38;5;241;43m=\u001b[39;49m\u001b[38;5;241;43m24\u001b[39;49m\u001b[43m)\u001b[49m\n",
            "File \u001b[1;32mc:\\Users\\saad9\\AppData\\Local\\Programs\\Python\\Python312\\Lib\\site-packages\\keras\\src\\utils\\timeseries_dataset_utils.py:231\u001b[0m, in \u001b[0;36mtimeseries_dataset_from_array\u001b[1;34m(data, targets, sequence_length, sequence_stride, sampling_rate, batch_size, shuffle, seed, start_index, end_index)\u001b[0m\n\u001b[0;32m    219\u001b[0m \u001b[38;5;66;03m# For each initial window position, generates indices of the window elements\u001b[39;00m\n\u001b[0;32m    220\u001b[0m indices \u001b[38;5;241m=\u001b[39m tf\u001b[38;5;241m.\u001b[39mdata\u001b[38;5;241m.\u001b[39mDataset\u001b[38;5;241m.\u001b[39mzip(\n\u001b[0;32m    221\u001b[0m     (tf\u001b[38;5;241m.\u001b[39mdata\u001b[38;5;241m.\u001b[39mDataset\u001b[38;5;241m.\u001b[39mrange(\u001b[38;5;28mlen\u001b[39m(start_positions)), positions_ds)\n\u001b[0;32m    222\u001b[0m )\u001b[38;5;241m.\u001b[39mmap(\n\u001b[1;32m   (...)\u001b[0m\n\u001b[0;32m    228\u001b[0m     num_parallel_calls\u001b[38;5;241m=\u001b[39mtf\u001b[38;5;241m.\u001b[39mdata\u001b[38;5;241m.\u001b[39mAUTOTUNE,\n\u001b[0;32m    229\u001b[0m )\n\u001b[1;32m--> 231\u001b[0m dataset \u001b[38;5;241m=\u001b[39m \u001b[43msequences_from_indices\u001b[49m\u001b[43m(\u001b[49m\u001b[43mdata\u001b[49m\u001b[43m,\u001b[49m\u001b[43m \u001b[49m\u001b[43mindices\u001b[49m\u001b[43m,\u001b[49m\u001b[43m \u001b[49m\u001b[43mstart_index\u001b[49m\u001b[43m,\u001b[49m\u001b[43m \u001b[49m\u001b[43mend_index\u001b[49m\u001b[43m)\u001b[49m\n\u001b[0;32m    232\u001b[0m \u001b[38;5;28;01mif\u001b[39;00m targets \u001b[38;5;129;01mis\u001b[39;00m \u001b[38;5;129;01mnot\u001b[39;00m \u001b[38;5;28;01mNone\u001b[39;00m:\n\u001b[0;32m    233\u001b[0m     indices \u001b[38;5;241m=\u001b[39m tf\u001b[38;5;241m.\u001b[39mdata\u001b[38;5;241m.\u001b[39mDataset\u001b[38;5;241m.\u001b[39mzip(\n\u001b[0;32m    234\u001b[0m         (tf\u001b[38;5;241m.\u001b[39mdata\u001b[38;5;241m.\u001b[39mDataset\u001b[38;5;241m.\u001b[39mrange(\u001b[38;5;28mlen\u001b[39m(start_positions)), positions_ds)\n\u001b[0;32m    235\u001b[0m     )\u001b[38;5;241m.\u001b[39mmap(\n\u001b[0;32m    236\u001b[0m         \u001b[38;5;28;01mlambda\u001b[39;00m i, positions: positions[i],\n\u001b[0;32m    237\u001b[0m         num_parallel_calls\u001b[38;5;241m=\u001b[39mtf\u001b[38;5;241m.\u001b[39mdata\u001b[38;5;241m.\u001b[39mAUTOTUNE,\n\u001b[0;32m    238\u001b[0m     )\n",
            "File \u001b[1;32mc:\\Users\\saad9\\AppData\\Local\\Programs\\Python\\Python312\\Lib\\site-packages\\keras\\src\\utils\\timeseries_dataset_utils.py:256\u001b[0m, in \u001b[0;36msequences_from_indices\u001b[1;34m(array, indices_ds, start_index, end_index)\u001b[0m\n\u001b[0;32m    255\u001b[0m \u001b[38;5;28;01mdef\u001b[39;00m \u001b[38;5;21msequences_from_indices\u001b[39m(array, indices_ds, start_index, end_index):\n\u001b[1;32m--> 256\u001b[0m     dataset \u001b[38;5;241m=\u001b[39m \u001b[43mtf\u001b[49m\u001b[38;5;241;43m.\u001b[39;49m\u001b[43mdata\u001b[49m\u001b[38;5;241;43m.\u001b[39;49m\u001b[43mDataset\u001b[49m\u001b[38;5;241;43m.\u001b[39;49m\u001b[43mfrom_tensors\u001b[49m\u001b[43m(\u001b[49m\u001b[43marray\u001b[49m\u001b[43m[\u001b[49m\u001b[43mstart_index\u001b[49m\u001b[43m:\u001b[49m\u001b[43mend_index\u001b[49m\u001b[43m]\u001b[49m\u001b[43m)\u001b[49m\n\u001b[0;32m    257\u001b[0m     dataset \u001b[38;5;241m=\u001b[39m tf\u001b[38;5;241m.\u001b[39mdata\u001b[38;5;241m.\u001b[39mDataset\u001b[38;5;241m.\u001b[39mzip((dataset\u001b[38;5;241m.\u001b[39mrepeat(), indices_ds))\u001b[38;5;241m.\u001b[39mmap(\n\u001b[0;32m    258\u001b[0m         \u001b[38;5;28;01mlambda\u001b[39;00m steps, inds: tf\u001b[38;5;241m.\u001b[39mgather(steps, inds),\n\u001b[0;32m    259\u001b[0m         num_parallel_calls\u001b[38;5;241m=\u001b[39mtf\u001b[38;5;241m.\u001b[39mdata\u001b[38;5;241m.\u001b[39mAUTOTUNE,\n\u001b[0;32m    260\u001b[0m     )\n\u001b[0;32m    261\u001b[0m     \u001b[38;5;28;01mreturn\u001b[39;00m dataset\n",
            "File \u001b[1;32mc:\\Users\\saad9\\AppData\\Local\\Programs\\Python\\Python312\\Lib\\site-packages\\tensorflow\\python\\data\\ops\\dataset_ops.py:741\u001b[0m, in \u001b[0;36mDatasetV2.from_tensors\u001b[1;34m(tensors, name)\u001b[0m\n\u001b[0;32m    737\u001b[0m \u001b[38;5;66;03m# Loaded lazily due to a circular dependency (dataset_ops ->\u001b[39;00m\n\u001b[0;32m    738\u001b[0m \u001b[38;5;66;03m# from_tensors_op -> dataset_ops).\u001b[39;00m\n\u001b[0;32m    739\u001b[0m \u001b[38;5;66;03m# pylint: disable=g-import-not-at-top,protected-access\u001b[39;00m\n\u001b[0;32m    740\u001b[0m \u001b[38;5;28;01mfrom\u001b[39;00m \u001b[38;5;21;01mtensorflow\u001b[39;00m\u001b[38;5;21;01m.\u001b[39;00m\u001b[38;5;21;01mpython\u001b[39;00m\u001b[38;5;21;01m.\u001b[39;00m\u001b[38;5;21;01mdata\u001b[39;00m\u001b[38;5;21;01m.\u001b[39;00m\u001b[38;5;21;01mops\u001b[39;00m \u001b[38;5;28;01mimport\u001b[39;00m from_tensors_op\n\u001b[1;32m--> 741\u001b[0m \u001b[38;5;28;01mreturn\u001b[39;00m \u001b[43mfrom_tensors_op\u001b[49m\u001b[38;5;241;43m.\u001b[39;49m\u001b[43m_from_tensors\u001b[49m\u001b[43m(\u001b[49m\u001b[43mtensors\u001b[49m\u001b[43m,\u001b[49m\u001b[43m \u001b[49m\u001b[43mname\u001b[49m\u001b[43m)\u001b[49m\n",
            "File \u001b[1;32mc:\\Users\\saad9\\AppData\\Local\\Programs\\Python\\Python312\\Lib\\site-packages\\tensorflow\\python\\data\\ops\\from_tensors_op.py:23\u001b[0m, in \u001b[0;36m_from_tensors\u001b[1;34m(tensors, name)\u001b[0m\n\u001b[0;32m     22\u001b[0m \u001b[38;5;28;01mdef\u001b[39;00m \u001b[38;5;21m_from_tensors\u001b[39m(tensors, name):  \u001b[38;5;66;03m# pylint: disable=unused-private-name\u001b[39;00m\n\u001b[1;32m---> 23\u001b[0m   \u001b[38;5;28;01mreturn\u001b[39;00m \u001b[43m_TensorDataset\u001b[49m\u001b[43m(\u001b[49m\u001b[43mtensors\u001b[49m\u001b[43m,\u001b[49m\u001b[43m \u001b[49m\u001b[43mname\u001b[49m\u001b[43m)\u001b[49m\n",
            "File \u001b[1;32mc:\\Users\\saad9\\AppData\\Local\\Programs\\Python\\Python312\\Lib\\site-packages\\tensorflow\\python\\data\\ops\\from_tensors_op.py:31\u001b[0m, in \u001b[0;36m_TensorDataset.__init__\u001b[1;34m(self, element, name)\u001b[0m\n\u001b[0;32m     29\u001b[0m \u001b[38;5;28;01mdef\u001b[39;00m \u001b[38;5;21m__init__\u001b[39m(\u001b[38;5;28mself\u001b[39m, element, name\u001b[38;5;241m=\u001b[39m\u001b[38;5;28;01mNone\u001b[39;00m):\n\u001b[0;32m     30\u001b[0m \u001b[38;5;250m  \u001b[39m\u001b[38;5;124;03m\"\"\"See `tf.data.Dataset.from_tensors` for details.\"\"\"\u001b[39;00m\n\u001b[1;32m---> 31\u001b[0m   element \u001b[38;5;241m=\u001b[39m \u001b[43mstructure\u001b[49m\u001b[38;5;241;43m.\u001b[39;49m\u001b[43mnormalize_element\u001b[49m\u001b[43m(\u001b[49m\u001b[43melement\u001b[49m\u001b[43m)\u001b[49m\n\u001b[0;32m     32\u001b[0m   \u001b[38;5;28mself\u001b[39m\u001b[38;5;241m.\u001b[39m_structure \u001b[38;5;241m=\u001b[39m structure\u001b[38;5;241m.\u001b[39mtype_spec_from_value(element)\n\u001b[0;32m     33\u001b[0m   \u001b[38;5;28mself\u001b[39m\u001b[38;5;241m.\u001b[39m_tensors \u001b[38;5;241m=\u001b[39m structure\u001b[38;5;241m.\u001b[39mto_tensor_list(\u001b[38;5;28mself\u001b[39m\u001b[38;5;241m.\u001b[39m_structure, element)\n",
            "File \u001b[1;32mc:\\Users\\saad9\\AppData\\Local\\Programs\\Python\\Python312\\Lib\\site-packages\\tensorflow\\python\\data\\util\\structure.py:110\u001b[0m, in \u001b[0;36mnormalize_element\u001b[1;34m(element, element_signature)\u001b[0m\n\u001b[0;32m    105\u001b[0m     spec \u001b[38;5;241m=\u001b[39m type_spec_from_value(t, use_fallback\u001b[38;5;241m=\u001b[39m\u001b[38;5;28;01mFalse\u001b[39;00m)\n\u001b[0;32m    106\u001b[0m \u001b[38;5;28;01mexcept\u001b[39;00m \u001b[38;5;167;01mTypeError\u001b[39;00m:\n\u001b[0;32m    107\u001b[0m   \u001b[38;5;66;03m# TypeError indicates it was not possible to compute a `TypeSpec` for\u001b[39;00m\n\u001b[0;32m    108\u001b[0m   \u001b[38;5;66;03m# the value. As a fallback try converting the value to a tensor.\u001b[39;00m\n\u001b[0;32m    109\u001b[0m   normalized_components\u001b[38;5;241m.\u001b[39mappend(\n\u001b[1;32m--> 110\u001b[0m       \u001b[43mops\u001b[49m\u001b[38;5;241;43m.\u001b[39;49m\u001b[43mconvert_to_tensor\u001b[49m\u001b[43m(\u001b[49m\u001b[43mt\u001b[49m\u001b[43m,\u001b[49m\u001b[43m \u001b[49m\u001b[43mname\u001b[49m\u001b[38;5;241;43m=\u001b[39;49m\u001b[38;5;124;43m\"\u001b[39;49m\u001b[38;5;124;43mcomponent_\u001b[39;49m\u001b[38;5;132;43;01m%d\u001b[39;49;00m\u001b[38;5;124;43m\"\u001b[39;49m\u001b[43m \u001b[49m\u001b[38;5;241;43m%\u001b[39;49m\u001b[43m \u001b[49m\u001b[43mi\u001b[49m\u001b[43m)\u001b[49m)\n\u001b[0;32m    111\u001b[0m \u001b[38;5;28;01melse\u001b[39;00m:\n\u001b[0;32m    112\u001b[0m   \u001b[38;5;66;03m# To avoid a circular dependency between dataset_ops and structure,\u001b[39;00m\n\u001b[0;32m    113\u001b[0m   \u001b[38;5;66;03m# we check the class name instead of using `isinstance`.\u001b[39;00m\n\u001b[0;32m    114\u001b[0m   \u001b[38;5;28;01mif\u001b[39;00m spec\u001b[38;5;241m.\u001b[39m\u001b[38;5;18m__class__\u001b[39m\u001b[38;5;241m.\u001b[39m\u001b[38;5;18m__name__\u001b[39m \u001b[38;5;241m==\u001b[39m \u001b[38;5;124m\"\u001b[39m\u001b[38;5;124mDatasetSpec\u001b[39m\u001b[38;5;124m\"\u001b[39m:\n",
            "File \u001b[1;32mc:\\Users\\saad9\\AppData\\Local\\Programs\\Python\\Python312\\Lib\\site-packages\\tensorflow\\python\\profiler\\trace.py:183\u001b[0m, in \u001b[0;36mtrace_wrapper.<locals>.inner_wrapper.<locals>.wrapped\u001b[1;34m(*args, **kwargs)\u001b[0m\n\u001b[0;32m    181\u001b[0m   \u001b[38;5;28;01mwith\u001b[39;00m Trace(trace_name, \u001b[38;5;241m*\u001b[39m\u001b[38;5;241m*\u001b[39mtrace_kwargs):\n\u001b[0;32m    182\u001b[0m     \u001b[38;5;28;01mreturn\u001b[39;00m func(\u001b[38;5;241m*\u001b[39margs, \u001b[38;5;241m*\u001b[39m\u001b[38;5;241m*\u001b[39mkwargs)\n\u001b[1;32m--> 183\u001b[0m \u001b[38;5;28;01mreturn\u001b[39;00m \u001b[43mfunc\u001b[49m\u001b[43m(\u001b[49m\u001b[38;5;241;43m*\u001b[39;49m\u001b[43margs\u001b[49m\u001b[43m,\u001b[49m\u001b[43m \u001b[49m\u001b[38;5;241;43m*\u001b[39;49m\u001b[38;5;241;43m*\u001b[39;49m\u001b[43mkwargs\u001b[49m\u001b[43m)\u001b[49m\n",
            "File \u001b[1;32mc:\\Users\\saad9\\AppData\\Local\\Programs\\Python\\Python312\\Lib\\site-packages\\tensorflow\\python\\framework\\ops.py:713\u001b[0m, in \u001b[0;36mconvert_to_tensor\u001b[1;34m(value, dtype, name, as_ref, preferred_dtype, dtype_hint, ctx, accepted_result_types)\u001b[0m\n\u001b[0;32m    711\u001b[0m \u001b[38;5;66;03m# TODO(b/142518781): Fix all call-sites and remove redundant arg\u001b[39;00m\n\u001b[0;32m    712\u001b[0m preferred_dtype \u001b[38;5;241m=\u001b[39m preferred_dtype \u001b[38;5;129;01mor\u001b[39;00m dtype_hint\n\u001b[1;32m--> 713\u001b[0m \u001b[38;5;28;01mreturn\u001b[39;00m \u001b[43mtensor_conversion_registry\u001b[49m\u001b[38;5;241;43m.\u001b[39;49m\u001b[43mconvert\u001b[49m\u001b[43m(\u001b[49m\n\u001b[0;32m    714\u001b[0m \u001b[43m    \u001b[49m\u001b[43mvalue\u001b[49m\u001b[43m,\u001b[49m\u001b[43m \u001b[49m\u001b[43mdtype\u001b[49m\u001b[43m,\u001b[49m\u001b[43m \u001b[49m\u001b[43mname\u001b[49m\u001b[43m,\u001b[49m\u001b[43m \u001b[49m\u001b[43mas_ref\u001b[49m\u001b[43m,\u001b[49m\u001b[43m \u001b[49m\u001b[43mpreferred_dtype\u001b[49m\u001b[43m,\u001b[49m\u001b[43m \u001b[49m\u001b[43maccepted_result_types\u001b[49m\n\u001b[0;32m    715\u001b[0m \u001b[43m\u001b[49m\u001b[43m)\u001b[49m\n",
            "File \u001b[1;32mc:\\Users\\saad9\\AppData\\Local\\Programs\\Python\\Python312\\Lib\\site-packages\\tensorflow\\python\\framework\\tensor_conversion_registry.py:234\u001b[0m, in \u001b[0;36mconvert\u001b[1;34m(value, dtype, name, as_ref, preferred_dtype, accepted_result_types)\u001b[0m\n\u001b[0;32m    225\u001b[0m       \u001b[38;5;28;01mraise\u001b[39;00m \u001b[38;5;167;01mRuntimeError\u001b[39;00m(\n\u001b[0;32m    226\u001b[0m           _add_error_prefix(\n\u001b[0;32m    227\u001b[0m               \u001b[38;5;124mf\u001b[39m\u001b[38;5;124m\"\u001b[39m\u001b[38;5;124mConversion function \u001b[39m\u001b[38;5;132;01m{\u001b[39;00mconversion_func\u001b[38;5;132;01m!r}\u001b[39;00m\u001b[38;5;124m for type \u001b[39m\u001b[38;5;124m\"\u001b[39m\n\u001b[1;32m   (...)\u001b[0m\n\u001b[0;32m    230\u001b[0m               \u001b[38;5;124mf\u001b[39m\u001b[38;5;124m\"\u001b[39m\u001b[38;5;124mactual = \u001b[39m\u001b[38;5;132;01m{\u001b[39;00mret\u001b[38;5;241m.\u001b[39mdtype\u001b[38;5;241m.\u001b[39mbase_dtype\u001b[38;5;241m.\u001b[39mname\u001b[38;5;132;01m}\u001b[39;00m\u001b[38;5;124m\"\u001b[39m,\n\u001b[0;32m    231\u001b[0m               name\u001b[38;5;241m=\u001b[39mname))\n\u001b[0;32m    233\u001b[0m \u001b[38;5;28;01mif\u001b[39;00m ret \u001b[38;5;129;01mis\u001b[39;00m \u001b[38;5;28;01mNone\u001b[39;00m:\n\u001b[1;32m--> 234\u001b[0m   ret \u001b[38;5;241m=\u001b[39m \u001b[43mconversion_func\u001b[49m\u001b[43m(\u001b[49m\u001b[43mvalue\u001b[49m\u001b[43m,\u001b[49m\u001b[43m \u001b[49m\u001b[43mdtype\u001b[49m\u001b[38;5;241;43m=\u001b[39;49m\u001b[43mdtype\u001b[49m\u001b[43m,\u001b[49m\u001b[43m \u001b[49m\u001b[43mname\u001b[49m\u001b[38;5;241;43m=\u001b[39;49m\u001b[43mname\u001b[49m\u001b[43m,\u001b[49m\u001b[43m \u001b[49m\u001b[43mas_ref\u001b[49m\u001b[38;5;241;43m=\u001b[39;49m\u001b[43mas_ref\u001b[49m\u001b[43m)\u001b[49m\n\u001b[0;32m    236\u001b[0m \u001b[38;5;28;01mif\u001b[39;00m ret \u001b[38;5;129;01mis\u001b[39;00m \u001b[38;5;28mNotImplemented\u001b[39m:\n\u001b[0;32m    237\u001b[0m   \u001b[38;5;28;01mcontinue\u001b[39;00m\n",
            "File \u001b[1;32mc:\\Users\\saad9\\AppData\\Local\\Programs\\Python\\Python312\\Lib\\site-packages\\tensorflow\\python\\framework\\constant_tensor_conversion.py:29\u001b[0m, in \u001b[0;36m_constant_tensor_conversion_function\u001b[1;34m(v, dtype, name, as_ref)\u001b[0m\n\u001b[0;32m     26\u001b[0m \u001b[38;5;28;01mfrom\u001b[39;00m \u001b[38;5;21;01mtensorflow\u001b[39;00m\u001b[38;5;21;01m.\u001b[39;00m\u001b[38;5;21;01mpython\u001b[39;00m\u001b[38;5;21;01m.\u001b[39;00m\u001b[38;5;21;01mframework\u001b[39;00m \u001b[38;5;28;01mimport\u001b[39;00m constant_op  \u001b[38;5;66;03m# pylint: disable=g-import-not-at-top\u001b[39;00m\n\u001b[0;32m     28\u001b[0m _ \u001b[38;5;241m=\u001b[39m as_ref\n\u001b[1;32m---> 29\u001b[0m \u001b[38;5;28;01mreturn\u001b[39;00m \u001b[43mconstant_op\u001b[49m\u001b[38;5;241;43m.\u001b[39;49m\u001b[43mconstant\u001b[49m\u001b[43m(\u001b[49m\u001b[43mv\u001b[49m\u001b[43m,\u001b[49m\u001b[43m \u001b[49m\u001b[43mdtype\u001b[49m\u001b[38;5;241;43m=\u001b[39;49m\u001b[43mdtype\u001b[49m\u001b[43m,\u001b[49m\u001b[43m \u001b[49m\u001b[43mname\u001b[49m\u001b[38;5;241;43m=\u001b[39;49m\u001b[43mname\u001b[49m\u001b[43m)\u001b[49m\n",
            "File \u001b[1;32mc:\\Users\\saad9\\AppData\\Local\\Programs\\Python\\Python312\\Lib\\site-packages\\tensorflow\\python\\ops\\weak_tensor_ops.py:142\u001b[0m, in \u001b[0;36mweak_tensor_binary_op_wrapper.<locals>.wrapper\u001b[1;34m(*args, **kwargs)\u001b[0m\n\u001b[0;32m    140\u001b[0m \u001b[38;5;28;01mdef\u001b[39;00m \u001b[38;5;21mwrapper\u001b[39m(\u001b[38;5;241m*\u001b[39margs, \u001b[38;5;241m*\u001b[39m\u001b[38;5;241m*\u001b[39mkwargs):\n\u001b[0;32m    141\u001b[0m   \u001b[38;5;28;01mif\u001b[39;00m \u001b[38;5;129;01mnot\u001b[39;00m ops\u001b[38;5;241m.\u001b[39mis_auto_dtype_conversion_enabled():\n\u001b[1;32m--> 142\u001b[0m     \u001b[38;5;28;01mreturn\u001b[39;00m \u001b[43mop\u001b[49m\u001b[43m(\u001b[49m\u001b[38;5;241;43m*\u001b[39;49m\u001b[43margs\u001b[49m\u001b[43m,\u001b[49m\u001b[43m \u001b[49m\u001b[38;5;241;43m*\u001b[39;49m\u001b[38;5;241;43m*\u001b[39;49m\u001b[43mkwargs\u001b[49m\u001b[43m)\u001b[49m\n\u001b[0;32m    143\u001b[0m   bound_arguments \u001b[38;5;241m=\u001b[39m signature\u001b[38;5;241m.\u001b[39mbind(\u001b[38;5;241m*\u001b[39margs, \u001b[38;5;241m*\u001b[39m\u001b[38;5;241m*\u001b[39mkwargs)\n\u001b[0;32m    144\u001b[0m   bound_arguments\u001b[38;5;241m.\u001b[39mapply_defaults()\n",
            "File \u001b[1;32mc:\\Users\\saad9\\AppData\\Local\\Programs\\Python\\Python312\\Lib\\site-packages\\tensorflow\\python\\framework\\constant_op.py:276\u001b[0m, in \u001b[0;36mconstant\u001b[1;34m(value, dtype, shape, name)\u001b[0m\n\u001b[0;32m    177\u001b[0m \u001b[38;5;129m@tf_export\u001b[39m(\u001b[38;5;124m\"\u001b[39m\u001b[38;5;124mconstant\u001b[39m\u001b[38;5;124m\"\u001b[39m, v1\u001b[38;5;241m=\u001b[39m[])\n\u001b[0;32m    178\u001b[0m \u001b[38;5;28;01mdef\u001b[39;00m \u001b[38;5;21mconstant\u001b[39m(\n\u001b[0;32m    179\u001b[0m     value, dtype\u001b[38;5;241m=\u001b[39m\u001b[38;5;28;01mNone\u001b[39;00m, shape\u001b[38;5;241m=\u001b[39m\u001b[38;5;28;01mNone\u001b[39;00m, name\u001b[38;5;241m=\u001b[39m\u001b[38;5;124m\"\u001b[39m\u001b[38;5;124mConst\u001b[39m\u001b[38;5;124m\"\u001b[39m\n\u001b[0;32m    180\u001b[0m ) \u001b[38;5;241m-\u001b[39m\u001b[38;5;241m>\u001b[39m Union[ops\u001b[38;5;241m.\u001b[39mOperation, ops\u001b[38;5;241m.\u001b[39m_EagerTensorBase]:\n\u001b[0;32m    181\u001b[0m \u001b[38;5;250m  \u001b[39m\u001b[38;5;124;03m\"\"\"Creates a constant tensor from a tensor-like object.\u001b[39;00m\n\u001b[0;32m    182\u001b[0m \n\u001b[0;32m    183\u001b[0m \u001b[38;5;124;03m  Note: All eager `tf.Tensor` values are immutable (in contrast to\u001b[39;00m\n\u001b[1;32m   (...)\u001b[0m\n\u001b[0;32m    274\u001b[0m \u001b[38;5;124;03m    ValueError: if called on a symbolic tensor.\u001b[39;00m\n\u001b[0;32m    275\u001b[0m \u001b[38;5;124;03m  \"\"\"\u001b[39;00m\n\u001b[1;32m--> 276\u001b[0m   \u001b[38;5;28;01mreturn\u001b[39;00m \u001b[43m_constant_impl\u001b[49m\u001b[43m(\u001b[49m\u001b[43mvalue\u001b[49m\u001b[43m,\u001b[49m\u001b[43m \u001b[49m\u001b[43mdtype\u001b[49m\u001b[43m,\u001b[49m\u001b[43m \u001b[49m\u001b[43mshape\u001b[49m\u001b[43m,\u001b[49m\u001b[43m \u001b[49m\u001b[43mname\u001b[49m\u001b[43m,\u001b[49m\u001b[43m \u001b[49m\u001b[43mverify_shape\u001b[49m\u001b[38;5;241;43m=\u001b[39;49m\u001b[38;5;28;43;01mFalse\u001b[39;49;00m\u001b[43m,\u001b[49m\n\u001b[0;32m    277\u001b[0m \u001b[43m                        \u001b[49m\u001b[43mallow_broadcast\u001b[49m\u001b[38;5;241;43m=\u001b[39;49m\u001b[38;5;28;43;01mTrue\u001b[39;49;00m\u001b[43m)\u001b[49m\n",
            "File \u001b[1;32mc:\\Users\\saad9\\AppData\\Local\\Programs\\Python\\Python312\\Lib\\site-packages\\tensorflow\\python\\framework\\constant_op.py:289\u001b[0m, in \u001b[0;36m_constant_impl\u001b[1;34m(value, dtype, shape, name, verify_shape, allow_broadcast)\u001b[0m\n\u001b[0;32m    287\u001b[0m     \u001b[38;5;28;01mwith\u001b[39;00m trace\u001b[38;5;241m.\u001b[39mTrace(\u001b[38;5;124m\"\u001b[39m\u001b[38;5;124mtf.constant\u001b[39m\u001b[38;5;124m\"\u001b[39m):\n\u001b[0;32m    288\u001b[0m       \u001b[38;5;28;01mreturn\u001b[39;00m _constant_eager_impl(ctx, value, dtype, shape, verify_shape)\n\u001b[1;32m--> 289\u001b[0m   \u001b[38;5;28;01mreturn\u001b[39;00m \u001b[43m_constant_eager_impl\u001b[49m\u001b[43m(\u001b[49m\u001b[43mctx\u001b[49m\u001b[43m,\u001b[49m\u001b[43m \u001b[49m\u001b[43mvalue\u001b[49m\u001b[43m,\u001b[49m\u001b[43m \u001b[49m\u001b[43mdtype\u001b[49m\u001b[43m,\u001b[49m\u001b[43m \u001b[49m\u001b[43mshape\u001b[49m\u001b[43m,\u001b[49m\u001b[43m \u001b[49m\u001b[43mverify_shape\u001b[49m\u001b[43m)\u001b[49m\n\u001b[0;32m    291\u001b[0m const_tensor \u001b[38;5;241m=\u001b[39m ops\u001b[38;5;241m.\u001b[39m_create_graph_constant(  \u001b[38;5;66;03m# pylint: disable=protected-access\u001b[39;00m\n\u001b[0;32m    292\u001b[0m     value, dtype, shape, name, verify_shape, allow_broadcast\n\u001b[0;32m    293\u001b[0m )\n\u001b[0;32m    294\u001b[0m \u001b[38;5;28;01mreturn\u001b[39;00m const_tensor\n",
            "File \u001b[1;32mc:\\Users\\saad9\\AppData\\Local\\Programs\\Python\\Python312\\Lib\\site-packages\\tensorflow\\python\\framework\\constant_op.py:301\u001b[0m, in \u001b[0;36m_constant_eager_impl\u001b[1;34m(ctx, value, dtype, shape, verify_shape)\u001b[0m\n\u001b[0;32m    297\u001b[0m \u001b[38;5;28;01mdef\u001b[39;00m \u001b[38;5;21m_constant_eager_impl\u001b[39m(\n\u001b[0;32m    298\u001b[0m     ctx, value, dtype, shape, verify_shape\n\u001b[0;32m    299\u001b[0m ) \u001b[38;5;241m-\u001b[39m\u001b[38;5;241m>\u001b[39m ops\u001b[38;5;241m.\u001b[39m_EagerTensorBase:\n\u001b[0;32m    300\u001b[0m \u001b[38;5;250m  \u001b[39m\u001b[38;5;124;03m\"\"\"Creates a constant on the current device.\"\"\"\u001b[39;00m\n\u001b[1;32m--> 301\u001b[0m   t \u001b[38;5;241m=\u001b[39m \u001b[43mconvert_to_eager_tensor\u001b[49m\u001b[43m(\u001b[49m\u001b[43mvalue\u001b[49m\u001b[43m,\u001b[49m\u001b[43m \u001b[49m\u001b[43mctx\u001b[49m\u001b[43m,\u001b[49m\u001b[43m \u001b[49m\u001b[43mdtype\u001b[49m\u001b[43m)\u001b[49m\n\u001b[0;32m    302\u001b[0m   \u001b[38;5;28;01mif\u001b[39;00m shape \u001b[38;5;129;01mis\u001b[39;00m \u001b[38;5;28;01mNone\u001b[39;00m:\n\u001b[0;32m    303\u001b[0m     \u001b[38;5;28;01mreturn\u001b[39;00m t\n",
            "File \u001b[1;32mc:\\Users\\saad9\\AppData\\Local\\Programs\\Python\\Python312\\Lib\\site-packages\\tensorflow\\python\\framework\\constant_op.py:108\u001b[0m, in \u001b[0;36mconvert_to_eager_tensor\u001b[1;34m(value, ctx, dtype)\u001b[0m\n\u001b[0;32m    106\u001b[0m     dtype \u001b[38;5;241m=\u001b[39m dtypes\u001b[38;5;241m.\u001b[39mas_dtype(dtype)\u001b[38;5;241m.\u001b[39mas_datatype_enum\n\u001b[0;32m    107\u001b[0m ctx\u001b[38;5;241m.\u001b[39mensure_initialized()\n\u001b[1;32m--> 108\u001b[0m \u001b[38;5;28;01mreturn\u001b[39;00m \u001b[43mops\u001b[49m\u001b[38;5;241;43m.\u001b[39;49m\u001b[43mEagerTensor\u001b[49m\u001b[43m(\u001b[49m\u001b[43mvalue\u001b[49m\u001b[43m,\u001b[49m\u001b[43m \u001b[49m\u001b[43mctx\u001b[49m\u001b[38;5;241;43m.\u001b[39;49m\u001b[43mdevice_name\u001b[49m\u001b[43m,\u001b[49m\u001b[43m \u001b[49m\u001b[43mdtype\u001b[49m\u001b[43m)\u001b[49m\n",
            "\u001b[1;31mValueError\u001b[0m: Failed to convert a NumPy array to a Tensor (Unsupported object type float)."
          ]
        }
      ],
      "source": [
        "from tensorflow.keras.preprocessing import timeseries_dataset_from_array\n",
        "df_to_X_y = timeseries_dataset_from_array(df, df['traffic_volume'], sequence_length=24)"
      ]
    },
    {
      "cell_type": "code",
      "execution_count": null,
      "id": "eeee7c79",
      "metadata": {},
      "outputs": [
        {
          "data": {
            "text/plain": [
              "<_BatchDataset element_spec=(TensorSpec(shape=(None, None, 10), dtype=tf.float64, name=None), TensorSpec(shape=(None,), dtype=tf.float64, name=None))>"
            ]
          },
          "execution_count": 43,
          "metadata": {},
          "output_type": "execute_result"
        }
      ],
      "source": [
        "# df_to_X_y."
      ]
    },
    {
      "cell_type": "code",
      "execution_count": null,
      "id": "f1c1f734",
      "metadata": {},
      "outputs": [],
      "source": [
        "df.drop(columns=df.select_dtypes(include=['object']),axis=1, inplace=True)"
      ]
    },
    {
      "cell_type": "code",
      "execution_count": null,
      "id": "ed0e9b16",
      "metadata": {},
      "outputs": [
        {
          "data": {
            "text/html": [
              "<div>\n",
              "<style scoped>\n",
              "    .dataframe tbody tr th:only-of-type {\n",
              "        vertical-align: middle;\n",
              "    }\n",
              "\n",
              "    .dataframe tbody tr th {\n",
              "        vertical-align: top;\n",
              "    }\n",
              "\n",
              "    .dataframe thead th {\n",
              "        text-align: right;\n",
              "    }\n",
              "</style>\n",
              "<table border=\"1\" class=\"dataframe\">\n",
              "  <thead>\n",
              "    <tr style=\"text-align: right;\">\n",
              "      <th></th>\n",
              "      <th>traffic_volume</th>\n",
              "      <th>temp</th>\n",
              "      <th>rain_1h</th>\n",
              "      <th>snow_1h</th>\n",
              "      <th>clouds_all</th>\n",
              "      <th>prev_traffic_volume</th>\n",
              "      <th>DayOfWeek</th>\n",
              "      <th>Month</th>\n",
              "      <th>DayOfYear</th>\n",
              "      <th>diff_traffic_volume</th>\n",
              "    </tr>\n",
              "    <tr>\n",
              "      <th>date_time</th>\n",
              "      <th></th>\n",
              "      <th></th>\n",
              "      <th></th>\n",
              "      <th></th>\n",
              "      <th></th>\n",
              "      <th></th>\n",
              "      <th></th>\n",
              "      <th></th>\n",
              "      <th></th>\n",
              "      <th></th>\n",
              "    </tr>\n",
              "  </thead>\n",
              "  <tbody>\n",
              "    <tr>\n",
              "      <th>2016-11-18 15:00:00</th>\n",
              "      <td>4872.0</td>\n",
              "      <td>274.08</td>\n",
              "      <td>0.0</td>\n",
              "      <td>0.0</td>\n",
              "      <td>90</td>\n",
              "      <td>6038.0</td>\n",
              "      <td>4</td>\n",
              "      <td>11</td>\n",
              "      <td>323</td>\n",
              "      <td>-1166.0</td>\n",
              "    </tr>\n",
              "    <tr>\n",
              "      <th>2016-11-18 15:00:00</th>\n",
              "      <td>4872.0</td>\n",
              "      <td>274.08</td>\n",
              "      <td>0.0</td>\n",
              "      <td>0.0</td>\n",
              "      <td>90</td>\n",
              "      <td>3403.0</td>\n",
              "      <td>4</td>\n",
              "      <td>11</td>\n",
              "      <td>323</td>\n",
              "      <td>1469.0</td>\n",
              "    </tr>\n",
              "    <tr>\n",
              "      <th>2016-11-18 15:00:00</th>\n",
              "      <td>4872.0</td>\n",
              "      <td>274.08</td>\n",
              "      <td>0.0</td>\n",
              "      <td>0.0</td>\n",
              "      <td>90</td>\n",
              "      <td>3253.0</td>\n",
              "      <td>4</td>\n",
              "      <td>11</td>\n",
              "      <td>323</td>\n",
              "      <td>1619.0</td>\n",
              "    </tr>\n",
              "    <tr>\n",
              "      <th>2016-11-18 16:00:00</th>\n",
              "      <td>5074.0</td>\n",
              "      <td>273.84</td>\n",
              "      <td>0.0</td>\n",
              "      <td>0.0</td>\n",
              "      <td>90</td>\n",
              "      <td>3071.0</td>\n",
              "      <td>4</td>\n",
              "      <td>11</td>\n",
              "      <td>323</td>\n",
              "      <td>2003.0</td>\n",
              "    </tr>\n",
              "    <tr>\n",
              "      <th>2016-11-18 16:00:00</th>\n",
              "      <td>5074.0</td>\n",
              "      <td>273.84</td>\n",
              "      <td>0.0</td>\n",
              "      <td>0.0</td>\n",
              "      <td>90</td>\n",
              "      <td>2453.0</td>\n",
              "      <td>4</td>\n",
              "      <td>11</td>\n",
              "      <td>323</td>\n",
              "      <td>2621.0</td>\n",
              "    </tr>\n",
              "    <tr>\n",
              "      <th>...</th>\n",
              "      <td>...</td>\n",
              "      <td>...</td>\n",
              "      <td>...</td>\n",
              "      <td>...</td>\n",
              "      <td>...</td>\n",
              "      <td>...</td>\n",
              "      <td>...</td>\n",
              "      <td>...</td>\n",
              "      <td>...</td>\n",
              "      <td>...</td>\n",
              "    </tr>\n",
              "    <tr>\n",
              "      <th>2018-09-30 19:00:00</th>\n",
              "      <td>3543.0</td>\n",
              "      <td>283.45</td>\n",
              "      <td>0.0</td>\n",
              "      <td>0.0</td>\n",
              "      <td>75</td>\n",
              "      <td>4457.0</td>\n",
              "      <td>6</td>\n",
              "      <td>9</td>\n",
              "      <td>273</td>\n",
              "      <td>-914.0</td>\n",
              "    </tr>\n",
              "    <tr>\n",
              "      <th>2018-09-30 20:00:00</th>\n",
              "      <td>2781.0</td>\n",
              "      <td>282.76</td>\n",
              "      <td>0.0</td>\n",
              "      <td>0.0</td>\n",
              "      <td>90</td>\n",
              "      <td>519.0</td>\n",
              "      <td>6</td>\n",
              "      <td>9</td>\n",
              "      <td>273</td>\n",
              "      <td>2262.0</td>\n",
              "    </tr>\n",
              "    <tr>\n",
              "      <th>2018-09-30 21:00:00</th>\n",
              "      <td>2159.0</td>\n",
              "      <td>282.73</td>\n",
              "      <td>0.0</td>\n",
              "      <td>0.0</td>\n",
              "      <td>90</td>\n",
              "      <td>6146.0</td>\n",
              "      <td>6</td>\n",
              "      <td>9</td>\n",
              "      <td>273</td>\n",
              "      <td>-3987.0</td>\n",
              "    </tr>\n",
              "    <tr>\n",
              "      <th>2018-09-30 22:00:00</th>\n",
              "      <td>1450.0</td>\n",
              "      <td>282.09</td>\n",
              "      <td>0.0</td>\n",
              "      <td>0.0</td>\n",
              "      <td>90</td>\n",
              "      <td>3027.0</td>\n",
              "      <td>6</td>\n",
              "      <td>9</td>\n",
              "      <td>273</td>\n",
              "      <td>-1577.0</td>\n",
              "    </tr>\n",
              "    <tr>\n",
              "      <th>2018-09-30 23:00:00</th>\n",
              "      <td>954.0</td>\n",
              "      <td>282.12</td>\n",
              "      <td>0.0</td>\n",
              "      <td>0.0</td>\n",
              "      <td>90</td>\n",
              "      <td>3350.0</td>\n",
              "      <td>6</td>\n",
              "      <td>9</td>\n",
              "      <td>273</td>\n",
              "      <td>-2396.0</td>\n",
              "    </tr>\n",
              "  </tbody>\n",
              "</table>\n",
              "<p>19967 rows × 10 columns</p>\n",
              "</div>"
            ],
            "text/plain": [
              "                     traffic_volume    temp  rain_1h  snow_1h  clouds_all  \\\n",
              "date_time                                                                   \n",
              "2016-11-18 15:00:00          4872.0  274.08      0.0      0.0          90   \n",
              "2016-11-18 15:00:00          4872.0  274.08      0.0      0.0          90   \n",
              "2016-11-18 15:00:00          4872.0  274.08      0.0      0.0          90   \n",
              "2016-11-18 16:00:00          5074.0  273.84      0.0      0.0          90   \n",
              "2016-11-18 16:00:00          5074.0  273.84      0.0      0.0          90   \n",
              "...                             ...     ...      ...      ...         ...   \n",
              "2018-09-30 19:00:00          3543.0  283.45      0.0      0.0          75   \n",
              "2018-09-30 20:00:00          2781.0  282.76      0.0      0.0          90   \n",
              "2018-09-30 21:00:00          2159.0  282.73      0.0      0.0          90   \n",
              "2018-09-30 22:00:00          1450.0  282.09      0.0      0.0          90   \n",
              "2018-09-30 23:00:00           954.0  282.12      0.0      0.0          90   \n",
              "\n",
              "                     prev_traffic_volume  DayOfWeek  Month  DayOfYear  \\\n",
              "date_time                                                               \n",
              "2016-11-18 15:00:00               6038.0          4     11        323   \n",
              "2016-11-18 15:00:00               3403.0          4     11        323   \n",
              "2016-11-18 15:00:00               3253.0          4     11        323   \n",
              "2016-11-18 16:00:00               3071.0          4     11        323   \n",
              "2016-11-18 16:00:00               2453.0          4     11        323   \n",
              "...                                  ...        ...    ...        ...   \n",
              "2018-09-30 19:00:00               4457.0          6      9        273   \n",
              "2018-09-30 20:00:00                519.0          6      9        273   \n",
              "2018-09-30 21:00:00               6146.0          6      9        273   \n",
              "2018-09-30 22:00:00               3027.0          6      9        273   \n",
              "2018-09-30 23:00:00               3350.0          6      9        273   \n",
              "\n",
              "                     diff_traffic_volume  \n",
              "date_time                                 \n",
              "2016-11-18 15:00:00              -1166.0  \n",
              "2016-11-18 15:00:00               1469.0  \n",
              "2016-11-18 15:00:00               1619.0  \n",
              "2016-11-18 16:00:00               2003.0  \n",
              "2016-11-18 16:00:00               2621.0  \n",
              "...                                  ...  \n",
              "2018-09-30 19:00:00               -914.0  \n",
              "2018-09-30 20:00:00               2262.0  \n",
              "2018-09-30 21:00:00              -3987.0  \n",
              "2018-09-30 22:00:00              -1577.0  \n",
              "2018-09-30 23:00:00              -2396.0  \n",
              "\n",
              "[19967 rows x 10 columns]"
            ]
          },
          "execution_count": 32,
          "metadata": {},
          "output_type": "execute_result"
        }
      ],
      "source": [
        "df"
      ]
    },
    {
      "cell_type": "code",
      "execution_count": null,
      "id": "29855ead",
      "metadata": {},
      "outputs": [],
      "source": [
        "X = df.drop(columns='traffic_volume', axis=1)\n",
        "y = df['traffic_volume']\n",
        "\n",
        "X_train, X_test, y_train, y_test = train_test_split(X, y, test_size=.2, random_state=42)\n",
        "X_train, X_val, y_train, y_val = train_test_split(X_train, y_train, test_size=.2, random_state=42)"
      ]
    },
    {
      "cell_type": "markdown",
      "id": "4bd267bb",
      "metadata": {
        "id": "4bd267bb"
      },
      "source": [
        "## Feature Scaling\n",
        "\n",
        "Apply feature scaling to the data if needed.\n",
        "\n",
        "**Instructions:**\n",
        "- Use a scaling method such as MinMaxScaler or StandardScaler.\n",
        "- Ensure scaling is applied correctly to both training and testing data."
      ]
    },
    {
      "cell_type": "code",
      "execution_count": null,
      "id": "2a8387e5",
      "metadata": {
        "id": "2a8387e5"
      },
      "outputs": [
        {
          "data": {
            "text/plain": [
              "array([[0.73019727],\n",
              "       [0.        ],\n",
              "       [0.        ],\n",
              "       ...,\n",
              "       [0.72727273],\n",
              "       [0.66849315],\n",
              "       [0.45041802]])"
            ]
          },
          "execution_count": 37,
          "metadata": {},
          "output_type": "execute_result"
        }
      ],
      "source": [
        "from sklearn.preprocessing import MinMaxScaler\n",
        "\n",
        "scaler = MinMaxScaler(feature_range=(0,1))\n",
        "\n",
        "X_train_scaled = scaler.fit_transform(X_train).reshape(-1,1)\n",
        "X_test_scaled = scaler.transform(X_test)\n",
        "X_train_scaled"
      ]
    },
    {
      "cell_type": "markdown",
      "id": "4f0be6e9",
      "metadata": {
        "id": "4f0be6e9"
      },
      "source": [
        "## Models Selection\n",
        "\n",
        "Choose two models for time series forecasting.\n",
        "\n",
        "**Instructions:**\n",
        "- Select two models such as ARIMA, SARIMA, RNN, LSTM, or GRU.\n",
        "- Train these models and then compare their performance."
      ]
    },
    {
      "cell_type": "code",
      "execution_count": null,
      "id": "ffceef22",
      "metadata": {
        "id": "ffceef22"
      },
      "outputs": [],
      "source": [
        "# GRU\n",
        "model_gru = Sequential()\n",
        "\n",
        "model_gru.add(GRU(50, return_sequences=True,input_shape=(df.shape[-1], 1)))\n",
        "model_gru.add(Dropout(0.2))\n",
        "\n",
        "model_gru.add(GRU(25, return_sequences=True))\n",
        "model_gru.add(Dropout(0.2))\n",
        "\n",
        "model_gru.add(GRU(25, return_sequences=False))\n",
        "model_gru.add(Dropout(0.2))\n",
        "\n",
        "model_gru.add(Dense(1))\n",
        "\n",
        "model_gru.compile(optimizer='adam', loss='mean_squared_error')"
      ]
    },
    {
      "cell_type": "markdown",
      "id": "0981f787",
      "metadata": {
        "id": "0981f787"
      },
      "source": [
        "### Model 1 Training\n",
        "\n",
        "Train your first model on the training dataset.\n",
        "\n",
        "**Instructions:**\n",
        "- Fit the first model to the training data.\n",
        "- Ensure to monitor the training process."
      ]
    },
    {
      "cell_type": "code",
      "execution_count": null,
      "id": "8205ed7f",
      "metadata": {
        "id": "8205ed7f"
      },
      "outputs": [],
      "source": [
        "early_stopping = EarlyStopping()\n",
        "gru_history = model_gru.fit(X_train, y_train, validation_data=(X_val, y_val), batch_size=32, epochs=100, EarlyStopping = [early_stopping])"
      ]
    },
    {
      "cell_type": "markdown",
      "id": "5f5b3fe3",
      "metadata": {
        "id": "5f5b3fe3"
      },
      "source": [
        "### Make 1 Predictions\n",
        "\n",
        "Generate predictions on the test dataset.\n",
        "\n",
        "### Instructions:\n",
        "- Use the trained model to make predictions on the test data.\n",
        "- Store the predictions for further analysis."
      ]
    },
    {
      "cell_type": "code",
      "execution_count": null,
      "id": "d1d5cca3",
      "metadata": {
        "id": "d1d5cca3"
      },
      "outputs": [],
      "source": []
    },
    {
      "cell_type": "markdown",
      "id": "6489cd08",
      "metadata": {
        "id": "6489cd08"
      },
      "source": [
        "### Model 1 Evaluation\n",
        "\n",
        "Evaluate the performance of your first model on the test dataset.\n",
        "\n",
        "**Instructions:**\n",
        "- Calculate evaluation metrics such as MAE, MSE, RMSE, or MAPE.\n",
        "- Plot the predicted vs actual values for the test set.\n",
        "- Plot the loss and the validation loss."
      ]
    },
    {
      "cell_type": "code",
      "execution_count": null,
      "id": "aad46e07",
      "metadata": {
        "id": "aad46e07"
      },
      "outputs": [],
      "source": []
    },
    {
      "cell_type": "markdown",
      "id": "82dd396a",
      "metadata": {
        "id": "82dd396a"
      },
      "source": [
        "### Model 2 Training\n",
        "\n",
        "Train your second model on the training dataset.\n",
        "\n",
        "**Instructions:**\n",
        "- Fit the second model to the training data.\n",
        "- Ensure to monitor the training process."
      ]
    },
    {
      "cell_type": "code",
      "execution_count": null,
      "id": "b8605884",
      "metadata": {
        "id": "b8605884"
      },
      "outputs": [],
      "source": [
        "model_lstm = Sequential()\n",
        "\n",
        "model_lstm.add(LSTM(50, return_sequences=True ,input_shape=(df.shape[-1], 1)))\n",
        "model_lstm.add(Dropout(0.2))\n",
        "\n",
        "model_lstm.add(LSTM(25, return_sequences=True))\n",
        "model_lstm.add(Dropout(0.2))\n",
        "\n",
        "model_lstm.add(LSTM(25, return_sequences=False))\n",
        "model_lstm.add(Dropout(0.2))\n",
        "\n",
        "model_lstm.add(Dense(1, activation='linear'))\n",
        "\n",
        "model_lstm.compile(optimizer='adam', loss='mean_squared_error')"
      ]
    },
    {
      "cell_type": "code",
      "execution_count": null,
      "id": "895258ab",
      "metadata": {},
      "outputs": [],
      "source": [
        "early_stopping = EarlyStopping()\n",
        "lstm_history = model_lstm.fit(X_train, y_train, validation_data=(X_val, y_val), batch_size=32, epochs=100, EarlyStopping = [early_stopping])"
      ]
    },
    {
      "cell_type": "markdown",
      "id": "3e811d93",
      "metadata": {
        "id": "3e811d93"
      },
      "source": [
        "### Make 2 Predictions\n",
        "\n",
        "Generate predictions on the test dataset.\n",
        "\n",
        "### Instructions:\n",
        "- Use the trained model to make predictions on the test data.\n",
        "- Store the predictions for further analysis."
      ]
    },
    {
      "cell_type": "code",
      "execution_count": null,
      "id": "d1492fe0",
      "metadata": {
        "id": "d1492fe0"
      },
      "outputs": [],
      "source": []
    },
    {
      "cell_type": "markdown",
      "id": "9d7f7af2",
      "metadata": {
        "id": "9d7f7af2"
      },
      "source": [
        "### Model 2 Evaluation\n",
        "\n",
        "Evaluate the performance of your second model on the test dataset.\n",
        "\n",
        "**Instructions:**\n",
        "- Calculate evaluation metrics such as MAE, MSE, RMSE, or MAPE.\n",
        "- Plot the predicted vs actual values for the test set.\n",
        "- Plot the loss and the validation loss."
      ]
    },
    {
      "cell_type": "code",
      "execution_count": null,
      "id": "7c3b85de",
      "metadata": {
        "id": "7c3b85de"
      },
      "outputs": [],
      "source": []
    },
    {
      "cell_type": "markdown",
      "id": "9cb9e77a",
      "metadata": {
        "id": "9cb9e77a"
      },
      "source": [
        "## Project Questions:\n",
        "\n",
        "1. **Data Preprocessing**: Explain How you chose your specific data preprocessing techniques (e.g., normalization, handling missing values). How did these techniques help prepare the data for training the model?\n",
        "2. **Feature Engineering**: Did you perform any feature engineering or transformations? Describe your decisions and how these new features (or transformed features) contributed to the forecasting model.\n",
        "3. **Model Architecture**: Describe the reasoning behind your model’s architecture (e.g., the type of model, layers, number of neurons, and activation functions). Why did you believe this architecture was appropriate for time series forecasting?\n",
        "4. **Training Process**: Discuss why you chose your batch size, number of epochs, and optimizer. How did these choices affect the training process? Did you experiment with different values, and what were the outcomes?\n",
        "5. **Loss Function and Metrics**: Why did you choose the specific loss function and evaluation metrics (e.g., MAE, RMSE, MAPE)? How do they align with the objective of forecasting?\n",
        "6. **Model Tuning (If Done)**: Describe any tuning you performed (e.g., hyperparameter tuning) and why you felt it was necessary. How did these adjustments improve model performance?\n",
        "7. **Overfitting and Underfitting**: Analyze whether the model encountered any overfitting or underfitting during training. What strategies could you implement to mitigate these issues?\n",
        "8. **Future Improvements**: Suggest potential improvements or further steps you could take to enhance model performance. Consider using different algorithms, feature engineering techniques, or tuning hyperparameters."
      ]
    },
    {
      "cell_type": "markdown",
      "id": "67ba7c70",
      "metadata": {
        "id": "67ba7c70"
      },
      "source": [
        "### Answer Here:"
      ]
    },
    {
      "cell_type": "markdown",
      "id": "050c5c08",
      "metadata": {},
      "source": [
        "- A1/ Used MinMax scaler, handled missing values with fillna (bfill) method because it is a time a series.\n",
        "- A2/ Yes i did as requested and can be viewed above\n",
        "- A3/ I chose LSTM and GRU because they are interestingly similar but slightly different, layers and models can viewed above, activation functions the default for linear activiation function.\n",
        "- A4/ I used batch_size=32 and epochs=100 with earlystopping because i've used them alot before and they should to be reliable.\n",
        "- A5/ Used MSE because it is the one to be used for time series and we want to see the differencing error between prediciton and actual data.\n",
        "- A6/ I have used Earlystopping so it can tune itself with an upper limit of 100 epochs.\n",
        "- A7/ thing's happened with my code and i wasn't able to run it.\n",
        "- A8/ I implement these times series more and learn it better."
      ]
    }
  ],
  "metadata": {
    "colab": {
      "provenance": []
    },
    "kernelspec": {
      "display_name": "base",
      "language": "python",
      "name": "python3"
    },
    "language_info": {
      "codemirror_mode": {
        "name": "ipython",
        "version": 3
      },
      "file_extension": ".py",
      "mimetype": "text/x-python",
      "name": "python",
      "nbconvert_exporter": "python",
      "pygments_lexer": "ipython3",
      "version": "3.12.4"
    }
  },
  "nbformat": 4,
  "nbformat_minor": 5
}
